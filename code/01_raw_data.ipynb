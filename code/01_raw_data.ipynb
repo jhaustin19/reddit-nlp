{
 "cells": [
  {
   "cell_type": "markdown",
   "metadata": {},
   "source": [
    "# Creating our dataset"
   ]
  },
  {
   "cell_type": "markdown",
   "metadata": {},
   "source": [
    "In this notebook, we'll be using the `create_combined_df` function defined in `pushshift_functions.py` in order to grab posts from two subreddits, [/r/Christianity](https://www.reddit.com/r/Christianity/) and [/r/Catholicism](https://www.reddit.com/r/Catholicism/). Once we have a dataframe, we'll export it for cleaning in a separate notebook."
   ]
  },
  {
   "cell_type": "markdown",
   "metadata": {},
   "source": [
    "## Import libraries"
   ]
  },
  {
   "cell_type": "code",
   "execution_count": 1,
   "metadata": {},
   "outputs": [],
   "source": [
    "import os\n",
    "\n",
    "from pushshift_functions import create_combined_df"
   ]
  },
  {
   "cell_type": "markdown",
   "metadata": {},
   "source": [
    "## Grabbing posts"
   ]
  },
  {
   "cell_type": "code",
   "execution_count": 2,
   "metadata": {},
   "outputs": [
    {
     "name": "stdout",
     "output_type": "stream",
     "text": [
      "Grabbing 5th bundle of posts from /r/Christianity...\n",
      "Grabbing 10th bundle of posts from /r/Christianity...\n",
      "Grabbing 15th bundle of posts from /r/Christianity...\n",
      "Grabbing 20th bundle of posts from /r/Christianity...\n",
      "Grabbing 25th bundle of posts from /r/Christianity...\n",
      "Grabbing 30th bundle of posts from /r/Christianity...\n",
      "Grabbing 35th bundle of posts from /r/Christianity...\n",
      "Grabbing 40th bundle of posts from /r/Christianity...\n",
      "Grabbing 45th bundle of posts from /r/Christianity...\n",
      "Grabbing 50th bundle of posts from /r/Christianity...\n",
      "Grabbing 5th bundle of posts from /r/Catholicism...\n",
      "Grabbing 10th bundle of posts from /r/Catholicism...\n",
      "Grabbing 15th bundle of posts from /r/Catholicism...\n",
      "Grabbing 20th bundle of posts from /r/Catholicism...\n",
      "Grabbing 25th bundle of posts from /r/Catholicism...\n",
      "Grabbing 30th bundle of posts from /r/Catholicism...\n",
      "Grabbing 35th bundle of posts from /r/Catholicism...\n",
      "Grabbing 40th bundle of posts from /r/Catholicism...\n",
      "Grabbing 45th bundle of posts from /r/Catholicism...\n",
      "Grabbing 50th bundle of posts from /r/Catholicism...\n"
     ]
    }
   ],
   "source": [
    "# The following should grab 25,000 posts each from /r/Christianity and /r/Catholicism.\n",
    "# NOTE: this will take a while...\n",
    "# Consider lowering n_iter to speed the process up.\n",
    "df = create_combined_df('Christianity', 'Catholicism', n_iter=50)"
   ]
  },
  {
   "cell_type": "code",
   "execution_count": 3,
   "metadata": {},
   "outputs": [
    {
     "data": {
      "text/html": [
       "<div>\n",
       "<style scoped>\n",
       "    .dataframe tbody tr th:only-of-type {\n",
       "        vertical-align: middle;\n",
       "    }\n",
       "\n",
       "    .dataframe tbody tr th {\n",
       "        vertical-align: top;\n",
       "    }\n",
       "\n",
       "    .dataframe thead th {\n",
       "        text-align: right;\n",
       "    }\n",
       "</style>\n",
       "<table border=\"1\" class=\"dataframe\">\n",
       "  <thead>\n",
       "    <tr style=\"text-align: right;\">\n",
       "      <th></th>\n",
       "      <th>all_awardings</th>\n",
       "      <th>allow_live_comments</th>\n",
       "      <th>author</th>\n",
       "      <th>author_flair_css_class</th>\n",
       "      <th>author_flair_richtext</th>\n",
       "      <th>author_flair_text</th>\n",
       "      <th>author_flair_type</th>\n",
       "      <th>author_fullname</th>\n",
       "      <th>author_patreon_flair</th>\n",
       "      <th>author_premium</th>\n",
       "      <th>...</th>\n",
       "      <th>gilded</th>\n",
       "      <th>poll_data</th>\n",
       "      <th>crosspost_parent</th>\n",
       "      <th>crosspost_parent_list</th>\n",
       "      <th>distinguished</th>\n",
       "      <th>steward_reports</th>\n",
       "      <th>removed_by</th>\n",
       "      <th>updated_utc</th>\n",
       "      <th>og_description</th>\n",
       "      <th>og_title</th>\n",
       "    </tr>\n",
       "  </thead>\n",
       "  <tbody>\n",
       "    <tr>\n",
       "      <th>0</th>\n",
       "      <td>[]</td>\n",
       "      <td>False</td>\n",
       "      <td>friendlyhello123</td>\n",
       "      <td>None</td>\n",
       "      <td>[]</td>\n",
       "      <td>None</td>\n",
       "      <td>text</td>\n",
       "      <td>t2_66w0klyz</td>\n",
       "      <td>False</td>\n",
       "      <td>False</td>\n",
       "      <td>...</td>\n",
       "      <td>NaN</td>\n",
       "      <td>NaN</td>\n",
       "      <td>NaN</td>\n",
       "      <td>NaN</td>\n",
       "      <td>NaN</td>\n",
       "      <td>NaN</td>\n",
       "      <td>NaN</td>\n",
       "      <td>NaN</td>\n",
       "      <td>NaN</td>\n",
       "      <td>NaN</td>\n",
       "    </tr>\n",
       "    <tr>\n",
       "      <th>1</th>\n",
       "      <td>[]</td>\n",
       "      <td>False</td>\n",
       "      <td>jason24119949422</td>\n",
       "      <td>None</td>\n",
       "      <td>[]</td>\n",
       "      <td>None</td>\n",
       "      <td>text</td>\n",
       "      <td>t2_5riob2jy</td>\n",
       "      <td>False</td>\n",
       "      <td>False</td>\n",
       "      <td>...</td>\n",
       "      <td>NaN</td>\n",
       "      <td>NaN</td>\n",
       "      <td>NaN</td>\n",
       "      <td>NaN</td>\n",
       "      <td>NaN</td>\n",
       "      <td>NaN</td>\n",
       "      <td>NaN</td>\n",
       "      <td>NaN</td>\n",
       "      <td>NaN</td>\n",
       "      <td>NaN</td>\n",
       "    </tr>\n",
       "    <tr>\n",
       "      <th>2</th>\n",
       "      <td>[]</td>\n",
       "      <td>False</td>\n",
       "      <td>diwiwi</td>\n",
       "      <td>None</td>\n",
       "      <td>[]</td>\n",
       "      <td>None</td>\n",
       "      <td>text</td>\n",
       "      <td>t2_rsn6o6d</td>\n",
       "      <td>False</td>\n",
       "      <td>False</td>\n",
       "      <td>...</td>\n",
       "      <td>NaN</td>\n",
       "      <td>NaN</td>\n",
       "      <td>NaN</td>\n",
       "      <td>NaN</td>\n",
       "      <td>NaN</td>\n",
       "      <td>NaN</td>\n",
       "      <td>NaN</td>\n",
       "      <td>NaN</td>\n",
       "      <td>NaN</td>\n",
       "      <td>NaN</td>\n",
       "    </tr>\n",
       "    <tr>\n",
       "      <th>3</th>\n",
       "      <td>[]</td>\n",
       "      <td>False</td>\n",
       "      <td>kofrase94</td>\n",
       "      <td>None</td>\n",
       "      <td>[]</td>\n",
       "      <td>None</td>\n",
       "      <td>text</td>\n",
       "      <td>t2_6a5knvep</td>\n",
       "      <td>False</td>\n",
       "      <td>False</td>\n",
       "      <td>...</td>\n",
       "      <td>NaN</td>\n",
       "      <td>NaN</td>\n",
       "      <td>NaN</td>\n",
       "      <td>NaN</td>\n",
       "      <td>NaN</td>\n",
       "      <td>NaN</td>\n",
       "      <td>NaN</td>\n",
       "      <td>NaN</td>\n",
       "      <td>NaN</td>\n",
       "      <td>NaN</td>\n",
       "    </tr>\n",
       "    <tr>\n",
       "      <th>4</th>\n",
       "      <td>[]</td>\n",
       "      <td>False</td>\n",
       "      <td>Clear-Plastic</td>\n",
       "      <td>None</td>\n",
       "      <td>[]</td>\n",
       "      <td>None</td>\n",
       "      <td>text</td>\n",
       "      <td>t2_6adu0qmq</td>\n",
       "      <td>False</td>\n",
       "      <td>False</td>\n",
       "      <td>...</td>\n",
       "      <td>NaN</td>\n",
       "      <td>NaN</td>\n",
       "      <td>NaN</td>\n",
       "      <td>NaN</td>\n",
       "      <td>NaN</td>\n",
       "      <td>NaN</td>\n",
       "      <td>NaN</td>\n",
       "      <td>NaN</td>\n",
       "      <td>NaN</td>\n",
       "      <td>NaN</td>\n",
       "    </tr>\n",
       "  </tbody>\n",
       "</table>\n",
       "<p>5 rows × 86 columns</p>\n",
       "</div>"
      ],
      "text/plain": [
       "  all_awardings  allow_live_comments            author author_flair_css_class  \\\n",
       "0            []                False  friendlyhello123                   None   \n",
       "1            []                False  jason24119949422                   None   \n",
       "2            []                False            diwiwi                   None   \n",
       "3            []                False         kofrase94                   None   \n",
       "4            []                False     Clear-Plastic                   None   \n",
       "\n",
       "  author_flair_richtext author_flair_text author_flair_type author_fullname  \\\n",
       "0                    []              None              text     t2_66w0klyz   \n",
       "1                    []              None              text     t2_5riob2jy   \n",
       "2                    []              None              text      t2_rsn6o6d   \n",
       "3                    []              None              text     t2_6a5knvep   \n",
       "4                    []              None              text     t2_6adu0qmq   \n",
       "\n",
       "  author_patreon_flair author_premium  ... gilded  poll_data  \\\n",
       "0                False          False  ...    NaN        NaN   \n",
       "1                False          False  ...    NaN        NaN   \n",
       "2                False          False  ...    NaN        NaN   \n",
       "3                False          False  ...    NaN        NaN   \n",
       "4                False          False  ...    NaN        NaN   \n",
       "\n",
       "   crosspost_parent  crosspost_parent_list distinguished steward_reports  \\\n",
       "0               NaN                    NaN           NaN             NaN   \n",
       "1               NaN                    NaN           NaN             NaN   \n",
       "2               NaN                    NaN           NaN             NaN   \n",
       "3               NaN                    NaN           NaN             NaN   \n",
       "4               NaN                    NaN           NaN             NaN   \n",
       "\n",
       "  removed_by updated_utc  og_description  og_title  \n",
       "0        NaN         NaN             NaN       NaN  \n",
       "1        NaN         NaN             NaN       NaN  \n",
       "2        NaN         NaN             NaN       NaN  \n",
       "3        NaN         NaN             NaN       NaN  \n",
       "4        NaN         NaN             NaN       NaN  \n",
       "\n",
       "[5 rows x 86 columns]"
      ]
     },
     "execution_count": 3,
     "metadata": {},
     "output_type": "execute_result"
    }
   ],
   "source": [
    "df.head()"
   ]
  },
  {
   "cell_type": "code",
   "execution_count": 4,
   "metadata": {},
   "outputs": [
    {
     "data": {
      "text/plain": [
       "(50000, 86)"
      ]
     },
     "execution_count": 4,
     "metadata": {},
     "output_type": "execute_result"
    }
   ],
   "source": [
    "df.shape"
   ]
  },
  {
   "cell_type": "markdown",
   "metadata": {},
   "source": [
    "## Export raw data"
   ]
  },
  {
   "cell_type": "code",
   "execution_count": 5,
   "metadata": {},
   "outputs": [],
   "source": [
    "try:\n",
    "    os.mkdir('../data')\n",
    "except FileExistsError:\n",
    "    pass"
   ]
  },
  {
   "cell_type": "code",
   "execution_count": 6,
   "metadata": {},
   "outputs": [],
   "source": [
    "# Get time of most recent post, will use this as a tag for the filename.\n",
    "current_time = max(df['created_utc'])\n",
    "\n",
    "# Save data we collected.\n",
    "df.to_csv(f'../data/raw_{current_time}.csv', index=False)"
   ]
  }
 ],
 "metadata": {
  "kernelspec": {
   "display_name": "Python 3",
   "language": "python",
   "name": "python3"
  },
  "language_info": {
   "codemirror_mode": {
    "name": "ipython",
    "version": 3
   },
   "file_extension": ".py",
   "mimetype": "text/x-python",
   "name": "python",
   "nbconvert_exporter": "python",
   "pygments_lexer": "ipython3",
   "version": "3.7.6"
  }
 },
 "nbformat": 4,
 "nbformat_minor": 4
}
