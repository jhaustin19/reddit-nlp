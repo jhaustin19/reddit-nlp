{
 "cells": [
  {
   "cell_type": "markdown",
   "metadata": {},
   "source": [
    "# Using the Pushshift API"
   ]
  },
  {
   "cell_type": "markdown",
   "metadata": {},
   "source": [
    "In this notebook, we'll be following the instructions from [this video](https://www.youtube.com/watch?v=AcrjEWsMi_E&feature=youtu.be) on how to use the [Pushshift API](https://github.com/pushshift/api) for getting Reddit posts. The hope is that by better understanding how to use the API, we can wrap most of its functionality up into a function that will grab any arbitrary amount of posts from the two subreddits of our choosing."
   ]
  },
  {
   "cell_type": "markdown",
   "metadata": {},
   "source": [
    "**NOTE:** The content of this notebook is unrelated to the rest of the project and can probably be ignored by most."
   ]
  },
  {
   "cell_type": "markdown",
   "metadata": {},
   "source": [
    "## Importing libraries"
   ]
  },
  {
   "cell_type": "code",
   "execution_count": 1,
   "metadata": {},
   "outputs": [],
   "source": [
    "import pandas as pd\n",
    "import requests"
   ]
  },
  {
   "cell_type": "markdown",
   "metadata": {},
   "source": [
    "## Trying it out"
   ]
  },
  {
   "cell_type": "markdown",
   "metadata": {},
   "source": [
    "Following Riley's example, we'll be grabbing data from the [/r/boardgames](https://www.reddit.com/r/boardgames) subreddit."
   ]
  },
  {
   "cell_type": "code",
   "execution_count": 2,
   "metadata": {},
   "outputs": [],
   "source": [
    "url = 'https://api.pushshift.io/reddit/search/submission'"
   ]
  },
  {
   "cell_type": "code",
   "execution_count": 3,
   "metadata": {},
   "outputs": [],
   "source": [
    "params = {\n",
    "    'subreddit': 'boardgames',\n",
    "    'size': 500,\n",
    "}"
   ]
  },
  {
   "cell_type": "code",
   "execution_count": 4,
   "metadata": {},
   "outputs": [],
   "source": [
    "res = requests.get(url, params)"
   ]
  },
  {
   "cell_type": "code",
   "execution_count": 5,
   "metadata": {},
   "outputs": [
    {
     "data": {
      "text/plain": [
       "200"
      ]
     },
     "execution_count": 5,
     "metadata": {},
     "output_type": "execute_result"
    }
   ],
   "source": [
    "res.status_code"
   ]
  },
  {
   "cell_type": "code",
   "execution_count": 6,
   "metadata": {},
   "outputs": [],
   "source": [
    "data = res.json()"
   ]
  },
  {
   "cell_type": "code",
   "execution_count": 7,
   "metadata": {},
   "outputs": [],
   "source": [
    "posts = data['data']"
   ]
  },
  {
   "cell_type": "code",
   "execution_count": 8,
   "metadata": {},
   "outputs": [],
   "source": [
    "boardgames = pd.DataFrame(posts)"
   ]
  },
  {
   "cell_type": "code",
   "execution_count": 9,
   "metadata": {},
   "outputs": [
    {
     "data": {
      "text/html": [
       "<div>\n",
       "<style scoped>\n",
       "    .dataframe tbody tr th:only-of-type {\n",
       "        vertical-align: middle;\n",
       "    }\n",
       "\n",
       "    .dataframe tbody tr th {\n",
       "        vertical-align: top;\n",
       "    }\n",
       "\n",
       "    .dataframe thead th {\n",
       "        text-align: right;\n",
       "    }\n",
       "</style>\n",
       "<table border=\"1\" class=\"dataframe\">\n",
       "  <thead>\n",
       "    <tr style=\"text-align: right;\">\n",
       "      <th></th>\n",
       "      <th>subreddit</th>\n",
       "      <th>title</th>\n",
       "      <th>selftext</th>\n",
       "    </tr>\n",
       "  </thead>\n",
       "  <tbody>\n",
       "    <tr>\n",
       "      <th>0</th>\n",
       "      <td>boardgames</td>\n",
       "      <td>Has anyone heard back from Asmodee about fixin...</td>\n",
       "      <td>The last update broke the app, the touch is ho...</td>\n",
       "    </tr>\n",
       "    <tr>\n",
       "      <th>1</th>\n",
       "      <td>boardgames</td>\n",
       "      <td>Dude, what is UP with Battle Wizards Murdershr...</td>\n",
       "      <td>I got this pack after loving playing the first...</td>\n",
       "    </tr>\n",
       "    <tr>\n",
       "      <th>2</th>\n",
       "      <td>boardgames</td>\n",
       "      <td>Challenge accepted (OC)</td>\n",
       "      <td></td>\n",
       "    </tr>\n",
       "    <tr>\n",
       "      <th>3</th>\n",
       "      <td>boardgames</td>\n",
       "      <td>Which Vast game do people prefer?</td>\n",
       "      <td>Crystal caverns vs mysterious manor</td>\n",
       "    </tr>\n",
       "    <tr>\n",
       "      <th>4</th>\n",
       "      <td>boardgames</td>\n",
       "      <td>Mechanics never seen before ? Maztec May 1st o...</td>\n",
       "      <td></td>\n",
       "    </tr>\n",
       "    <tr>\n",
       "      <th>...</th>\n",
       "      <td>...</td>\n",
       "      <td>...</td>\n",
       "      <td>...</td>\n",
       "    </tr>\n",
       "    <tr>\n",
       "      <th>495</th>\n",
       "      <td>boardgames</td>\n",
       "      <td>Tremer no Adobe Premiere</td>\n",
       "      <td></td>\n",
       "    </tr>\n",
       "    <tr>\n",
       "      <th>496</th>\n",
       "      <td>boardgames</td>\n",
       "      <td>Refreshing to play a game with basic components?</td>\n",
       "      <td>I'm super excited because after a month or two...</td>\n",
       "    </tr>\n",
       "    <tr>\n",
       "      <th>497</th>\n",
       "      <td>boardgames</td>\n",
       "      <td>Lord of the Rings Battlefields Expansion</td>\n",
       "      <td>Hoping someone can point in the right directio...</td>\n",
       "    </tr>\n",
       "    <tr>\n",
       "      <th>498</th>\n",
       "      <td>boardgames</td>\n",
       "      <td>Codenames in Excel - feel free to download and...</td>\n",
       "      <td>Someone in /r/excel recommended I post over he...</td>\n",
       "    </tr>\n",
       "    <tr>\n",
       "      <th>499</th>\n",
       "      <td>boardgames</td>\n",
       "      <td>Boardgames communities</td>\n",
       "      <td>Hello everyone! I am interested in boardgames ...</td>\n",
       "    </tr>\n",
       "  </tbody>\n",
       "</table>\n",
       "<p>500 rows × 3 columns</p>\n",
       "</div>"
      ],
      "text/plain": [
       "      subreddit                                              title  \\\n",
       "0    boardgames  Has anyone heard back from Asmodee about fixin...   \n",
       "1    boardgames  Dude, what is UP with Battle Wizards Murdershr...   \n",
       "2    boardgames                            Challenge accepted (OC)   \n",
       "3    boardgames                  Which Vast game do people prefer?   \n",
       "4    boardgames  Mechanics never seen before ? Maztec May 1st o...   \n",
       "..          ...                                                ...   \n",
       "495  boardgames                           Tremer no Adobe Premiere   \n",
       "496  boardgames   Refreshing to play a game with basic components?   \n",
       "497  boardgames           Lord of the Rings Battlefields Expansion   \n",
       "498  boardgames  Codenames in Excel - feel free to download and...   \n",
       "499  boardgames                             Boardgames communities   \n",
       "\n",
       "                                              selftext  \n",
       "0    The last update broke the app, the touch is ho...  \n",
       "1    I got this pack after loving playing the first...  \n",
       "2                                                       \n",
       "3                  Crystal caverns vs mysterious manor  \n",
       "4                                                       \n",
       "..                                                 ...  \n",
       "495                                                     \n",
       "496  I'm super excited because after a month or two...  \n",
       "497  Hoping someone can point in the right directio...  \n",
       "498  Someone in /r/excel recommended I post over he...  \n",
       "499  Hello everyone! I am interested in boardgames ...  \n",
       "\n",
       "[500 rows x 3 columns]"
      ]
     },
     "execution_count": 9,
     "metadata": {},
     "output_type": "execute_result"
    }
   ],
   "source": [
    "boardgames[['subreddit', 'title', 'selftext']]"
   ]
  },
  {
   "cell_type": "markdown",
   "metadata": {},
   "source": [
    "## Getting more posts"
   ]
  },
  {
   "cell_type": "markdown",
   "metadata": {},
   "source": [
    "Using the Pushshift API, we can only grab 500 posts at a time. So if we want to work with more data in our NLP model, we'll have to be a little clever about how we use Pushshift. There is a `before` parameter which will allow us to specify that we want posts from before a given date, so we'll grab the 500 posts from before the oldest post we already have. How? Here's what we know:\n",
    "- The elements of the `posts` list are dictionaries which each have the key `created_utc`\n",
    "- The value of this key is a timestamp representing the time the post was created in Coordinated Universal Time\n",
    "- If we can get the minimum timestamp, we'll effectively have our oldest post"
   ]
  },
  {
   "cell_type": "code",
   "execution_count": 10,
   "metadata": {},
   "outputs": [],
   "source": [
    "# Grab timestamp of the oldest post\n",
    "oldest_post = min([post['created_utc'] for post in posts])"
   ]
  },
  {
   "cell_type": "code",
   "execution_count": 11,
   "metadata": {},
   "outputs": [],
   "source": [
    "params = {\n",
    "    'subreddit': 'boardgames',\n",
    "    'size': 500,\n",
    "    'before': oldest_post\n",
    "}"
   ]
  },
  {
   "cell_type": "code",
   "execution_count": 12,
   "metadata": {},
   "outputs": [],
   "source": [
    "res = requests.get(url, params)"
   ]
  },
  {
   "cell_type": "code",
   "execution_count": 13,
   "metadata": {},
   "outputs": [
    {
     "data": {
      "text/plain": [
       "200"
      ]
     },
     "execution_count": 13,
     "metadata": {},
     "output_type": "execute_result"
    }
   ],
   "source": [
    "res.status_code"
   ]
  },
  {
   "cell_type": "code",
   "execution_count": 14,
   "metadata": {},
   "outputs": [],
   "source": [
    "data = res.json()"
   ]
  },
  {
   "cell_type": "code",
   "execution_count": 15,
   "metadata": {},
   "outputs": [],
   "source": [
    "posts = data['data']"
   ]
  },
  {
   "cell_type": "code",
   "execution_count": 16,
   "metadata": {},
   "outputs": [],
   "source": [
    "more_boardgames = pd.DataFrame(posts)"
   ]
  },
  {
   "cell_type": "code",
   "execution_count": 17,
   "metadata": {},
   "outputs": [
    {
     "data": {
      "text/html": [
       "<div>\n",
       "<style scoped>\n",
       "    .dataframe tbody tr th:only-of-type {\n",
       "        vertical-align: middle;\n",
       "    }\n",
       "\n",
       "    .dataframe tbody tr th {\n",
       "        vertical-align: top;\n",
       "    }\n",
       "\n",
       "    .dataframe thead th {\n",
       "        text-align: right;\n",
       "    }\n",
       "</style>\n",
       "<table border=\"1\" class=\"dataframe\">\n",
       "  <thead>\n",
       "    <tr style=\"text-align: right;\">\n",
       "      <th></th>\n",
       "      <th>subreddit</th>\n",
       "      <th>title</th>\n",
       "      <th>selftext</th>\n",
       "    </tr>\n",
       "  </thead>\n",
       "  <tbody>\n",
       "    <tr>\n",
       "      <th>0</th>\n",
       "      <td>boardgames</td>\n",
       "      <td>Does this detachment work?</td>\n",
       "      <td>Once one of the nurgle deamons die can i just ...</td>\n",
       "    </tr>\n",
       "    <tr>\n",
       "      <th>1</th>\n",
       "      <td>boardgames</td>\n",
       "      <td>Online Cards Against Humanity with webcam and ...</td>\n",
       "      <td></td>\n",
       "    </tr>\n",
       "    <tr>\n",
       "      <th>2</th>\n",
       "      <td>boardgames</td>\n",
       "      <td>Family Game Night During Lockdown.</td>\n",
       "      <td>Board games are bringing the family back toget...</td>\n",
       "    </tr>\n",
       "    <tr>\n",
       "      <th>3</th>\n",
       "      <td>boardgames</td>\n",
       "      <td>Long distance “buzzer” app/solutions?</td>\n",
       "      <td>My extended family are trying to play “jeopard...</td>\n",
       "    </tr>\n",
       "    <tr>\n",
       "      <th>4</th>\n",
       "      <td>boardgames</td>\n",
       "      <td>Problem visiting Rio Grande's website</td>\n",
       "      <td>For some reason it is redirected to some excel...</td>\n",
       "    </tr>\n",
       "    <tr>\n",
       "      <th>...</th>\n",
       "      <td>...</td>\n",
       "      <td>...</td>\n",
       "      <td>...</td>\n",
       "    </tr>\n",
       "    <tr>\n",
       "      <th>495</th>\n",
       "      <td>boardgames</td>\n",
       "      <td>Pandemic: In the Lab, Lab Challenge. Can we pl...</td>\n",
       "      <td>I just excitingly got Pandemic In The Lab expa...</td>\n",
       "    </tr>\n",
       "    <tr>\n",
       "      <th>496</th>\n",
       "      <td>boardgames</td>\n",
       "      <td>Splendor App: Trading Posts Release Date?</td>\n",
       "      <td>[deleted]</td>\n",
       "    </tr>\n",
       "    <tr>\n",
       "      <th>497</th>\n",
       "      <td>boardgames</td>\n",
       "      <td>Rule Bending ?</td>\n",
       "      <td>Horseopoly - Rules state if a player lands on ...</td>\n",
       "    </tr>\n",
       "    <tr>\n",
       "      <th>498</th>\n",
       "      <td>boardgames</td>\n",
       "      <td>Rule Bending ?</td>\n",
       "      <td>[deleted]</td>\n",
       "    </tr>\n",
       "    <tr>\n",
       "      <th>499</th>\n",
       "      <td>boardgames</td>\n",
       "      <td>Rule Bending ?</td>\n",
       "      <td>[deleted]</td>\n",
       "    </tr>\n",
       "  </tbody>\n",
       "</table>\n",
       "<p>500 rows × 3 columns</p>\n",
       "</div>"
      ],
      "text/plain": [
       "      subreddit                                              title  \\\n",
       "0    boardgames                         Does this detachment work?   \n",
       "1    boardgames  Online Cards Against Humanity with webcam and ...   \n",
       "2    boardgames                 Family Game Night During Lockdown.   \n",
       "3    boardgames              Long distance “buzzer” app/solutions?   \n",
       "4    boardgames              Problem visiting Rio Grande's website   \n",
       "..          ...                                                ...   \n",
       "495  boardgames  Pandemic: In the Lab, Lab Challenge. Can we pl...   \n",
       "496  boardgames          Splendor App: Trading Posts Release Date?   \n",
       "497  boardgames                                     Rule Bending ?   \n",
       "498  boardgames                                     Rule Bending ?   \n",
       "499  boardgames                                     Rule Bending ?   \n",
       "\n",
       "                                              selftext  \n",
       "0    Once one of the nurgle deamons die can i just ...  \n",
       "1                                                       \n",
       "2    Board games are bringing the family back toget...  \n",
       "3    My extended family are trying to play “jeopard...  \n",
       "4    For some reason it is redirected to some excel...  \n",
       "..                                                 ...  \n",
       "495  I just excitingly got Pandemic In The Lab expa...  \n",
       "496                                          [deleted]  \n",
       "497  Horseopoly - Rules state if a player lands on ...  \n",
       "498                                          [deleted]  \n",
       "499                                          [deleted]  \n",
       "\n",
       "[500 rows x 3 columns]"
      ]
     },
     "execution_count": 17,
     "metadata": {},
     "output_type": "execute_result"
    }
   ],
   "source": [
    "more_boardgames[['subreddit', 'title', 'selftext']]"
   ]
  },
  {
   "cell_type": "markdown",
   "metadata": {},
   "source": [
    "## Concatenating the dataframes"
   ]
  },
  {
   "cell_type": "markdown",
   "metadata": {},
   "source": [
    "So we now have two separate */r/boardgames* dataframes with 500 posts each. To have a single, neat dataframe to work with, we simply need to concatenate the two dataframes we already have."
   ]
  },
  {
   "cell_type": "code",
   "execution_count": 18,
   "metadata": {},
   "outputs": [],
   "source": [
    "combined = pd.concat([boardgames, more_boardgames], ignore_index=True)"
   ]
  },
  {
   "cell_type": "code",
   "execution_count": 19,
   "metadata": {},
   "outputs": [
    {
     "data": {
      "text/html": [
       "<div>\n",
       "<style scoped>\n",
       "    .dataframe tbody tr th:only-of-type {\n",
       "        vertical-align: middle;\n",
       "    }\n",
       "\n",
       "    .dataframe tbody tr th {\n",
       "        vertical-align: top;\n",
       "    }\n",
       "\n",
       "    .dataframe thead th {\n",
       "        text-align: right;\n",
       "    }\n",
       "</style>\n",
       "<table border=\"1\" class=\"dataframe\">\n",
       "  <thead>\n",
       "    <tr style=\"text-align: right;\">\n",
       "      <th></th>\n",
       "      <th>subreddit</th>\n",
       "      <th>title</th>\n",
       "      <th>selftext</th>\n",
       "    </tr>\n",
       "  </thead>\n",
       "  <tbody>\n",
       "    <tr>\n",
       "      <th>0</th>\n",
       "      <td>boardgames</td>\n",
       "      <td>Has anyone heard back from Asmodee about fixin...</td>\n",
       "      <td>The last update broke the app, the touch is ho...</td>\n",
       "    </tr>\n",
       "    <tr>\n",
       "      <th>1</th>\n",
       "      <td>boardgames</td>\n",
       "      <td>Dude, what is UP with Battle Wizards Murdershr...</td>\n",
       "      <td>I got this pack after loving playing the first...</td>\n",
       "    </tr>\n",
       "    <tr>\n",
       "      <th>2</th>\n",
       "      <td>boardgames</td>\n",
       "      <td>Challenge accepted (OC)</td>\n",
       "      <td></td>\n",
       "    </tr>\n",
       "    <tr>\n",
       "      <th>3</th>\n",
       "      <td>boardgames</td>\n",
       "      <td>Which Vast game do people prefer?</td>\n",
       "      <td>Crystal caverns vs mysterious manor</td>\n",
       "    </tr>\n",
       "    <tr>\n",
       "      <th>4</th>\n",
       "      <td>boardgames</td>\n",
       "      <td>Mechanics never seen before ? Maztec May 1st o...</td>\n",
       "      <td></td>\n",
       "    </tr>\n",
       "    <tr>\n",
       "      <th>...</th>\n",
       "      <td>...</td>\n",
       "      <td>...</td>\n",
       "      <td>...</td>\n",
       "    </tr>\n",
       "    <tr>\n",
       "      <th>995</th>\n",
       "      <td>boardgames</td>\n",
       "      <td>Pandemic: In the Lab, Lab Challenge. Can we pl...</td>\n",
       "      <td>I just excitingly got Pandemic In The Lab expa...</td>\n",
       "    </tr>\n",
       "    <tr>\n",
       "      <th>996</th>\n",
       "      <td>boardgames</td>\n",
       "      <td>Splendor App: Trading Posts Release Date?</td>\n",
       "      <td>[deleted]</td>\n",
       "    </tr>\n",
       "    <tr>\n",
       "      <th>997</th>\n",
       "      <td>boardgames</td>\n",
       "      <td>Rule Bending ?</td>\n",
       "      <td>Horseopoly - Rules state if a player lands on ...</td>\n",
       "    </tr>\n",
       "    <tr>\n",
       "      <th>998</th>\n",
       "      <td>boardgames</td>\n",
       "      <td>Rule Bending ?</td>\n",
       "      <td>[deleted]</td>\n",
       "    </tr>\n",
       "    <tr>\n",
       "      <th>999</th>\n",
       "      <td>boardgames</td>\n",
       "      <td>Rule Bending ?</td>\n",
       "      <td>[deleted]</td>\n",
       "    </tr>\n",
       "  </tbody>\n",
       "</table>\n",
       "<p>1000 rows × 3 columns</p>\n",
       "</div>"
      ],
      "text/plain": [
       "      subreddit                                              title  \\\n",
       "0    boardgames  Has anyone heard back from Asmodee about fixin...   \n",
       "1    boardgames  Dude, what is UP with Battle Wizards Murdershr...   \n",
       "2    boardgames                            Challenge accepted (OC)   \n",
       "3    boardgames                  Which Vast game do people prefer?   \n",
       "4    boardgames  Mechanics never seen before ? Maztec May 1st o...   \n",
       "..          ...                                                ...   \n",
       "995  boardgames  Pandemic: In the Lab, Lab Challenge. Can we pl...   \n",
       "996  boardgames          Splendor App: Trading Posts Release Date?   \n",
       "997  boardgames                                     Rule Bending ?   \n",
       "998  boardgames                                     Rule Bending ?   \n",
       "999  boardgames                                     Rule Bending ?   \n",
       "\n",
       "                                              selftext  \n",
       "0    The last update broke the app, the touch is ho...  \n",
       "1    I got this pack after loving playing the first...  \n",
       "2                                                       \n",
       "3                  Crystal caverns vs mysterious manor  \n",
       "4                                                       \n",
       "..                                                 ...  \n",
       "995  I just excitingly got Pandemic In The Lab expa...  \n",
       "996                                          [deleted]  \n",
       "997  Horseopoly - Rules state if a player lands on ...  \n",
       "998                                          [deleted]  \n",
       "999                                          [deleted]  \n",
       "\n",
       "[1000 rows x 3 columns]"
      ]
     },
     "execution_count": 19,
     "metadata": {},
     "output_type": "execute_result"
    }
   ],
   "source": [
    "combined[['subreddit', 'title', 'selftext']]"
   ]
  },
  {
   "cell_type": "markdown",
   "metadata": {},
   "source": [
    "## Building a function"
   ]
  },
  {
   "cell_type": "markdown",
   "metadata": {},
   "source": [
    "Now that I have some functional knowledge of the Pushshift API, I'll define a function that can automate the process of grabbing posts and turning them into a dataframe. The results can be seen in `pushshift_functions.py`."
   ]
  }
 ],
 "metadata": {
  "kernelspec": {
   "display_name": "Python 3",
   "language": "python",
   "name": "python3"
  },
  "language_info": {
   "codemirror_mode": {
    "name": "ipython",
    "version": 3
   },
   "file_extension": ".py",
   "mimetype": "text/x-python",
   "name": "python",
   "nbconvert_exporter": "python",
   "pygments_lexer": "ipython3",
   "version": "3.7.6"
  }
 },
 "nbformat": 4,
 "nbformat_minor": 4
}
