{
 "cells": [
  {
   "cell_type": "markdown",
   "metadata": {},
   "source": [
    "# Naive Bayes"
   ]
  },
  {
   "cell_type": "markdown",
   "metadata": {},
   "source": [
    "Since our logistic regression model performed reasonably well, let's move on to something else and see if we can do better. In this notebook, we'll be building a [naive Bayes](https://en.wikipedia.org/wiki/Naive_Bayes_classifier) model."
   ]
  },
  {
   "cell_type": "markdown",
   "metadata": {},
   "source": [
    "## Importing libraries"
   ]
  },
  {
   "cell_type": "code",
   "execution_count": 13,
   "metadata": {},
   "outputs": [],
   "source": [
    "import pandas as pd\n",
    "\n",
    "from sklearn.feature_extraction.text import CountVectorizer\n",
    "from sklearn.metrics import plot_confusion_matrix\n",
    "from sklearn.model_selection import GridSearchCV, train_test_split\n",
    "from sklearn.naive_bayes import MultinomialNB\n",
    "from sklearn.pipeline import Pipeline"
   ]
  },
  {
   "cell_type": "markdown",
   "metadata": {},
   "source": [
    "## Loading the data"
   ]
  },
  {
   "cell_type": "code",
   "execution_count": 2,
   "metadata": {},
   "outputs": [],
   "source": [
    "filepath = '../data/clean_1587672956.csv'\n",
    "df = pd.read_csv(filepath)"
   ]
  },
  {
   "cell_type": "code",
   "execution_count": 3,
   "metadata": {},
   "outputs": [
    {
     "data": {
      "text/html": [
       "<div>\n",
       "<style scoped>\n",
       "    .dataframe tbody tr th:only-of-type {\n",
       "        vertical-align: middle;\n",
       "    }\n",
       "\n",
       "    .dataframe tbody tr th {\n",
       "        vertical-align: top;\n",
       "    }\n",
       "\n",
       "    .dataframe thead th {\n",
       "        text-align: right;\n",
       "    }\n",
       "</style>\n",
       "<table border=\"1\" class=\"dataframe\">\n",
       "  <thead>\n",
       "    <tr style=\"text-align: right;\">\n",
       "      <th></th>\n",
       "      <th>subreddit</th>\n",
       "      <th>subreddit_subscribers</th>\n",
       "      <th>title</th>\n",
       "      <th>selftext</th>\n",
       "      <th>score</th>\n",
       "      <th>num_comments</th>\n",
       "      <th>author</th>\n",
       "      <th>created_utc</th>\n",
       "    </tr>\n",
       "  </thead>\n",
       "  <tbody>\n",
       "    <tr>\n",
       "      <th>0</th>\n",
       "      <td>Christianity</td>\n",
       "      <td>233423</td>\n",
       "      <td>Christian and wondering if God provides what w...</td>\n",
       "      <td>Please forgive me for sounding so flippant, bu...</td>\n",
       "      <td>1</td>\n",
       "      <td>0</td>\n",
       "      <td>friendlyhello123</td>\n",
       "      <td>1587672956</td>\n",
       "    </tr>\n",
       "    <tr>\n",
       "      <th>1</th>\n",
       "      <td>Christianity</td>\n",
       "      <td>233423</td>\n",
       "      <td>What do you think is often ignored in the bibl...</td>\n",
       "      <td>Like genealogies for example... both Rahab and...</td>\n",
       "      <td>1</td>\n",
       "      <td>0</td>\n",
       "      <td>Clear-Plastic</td>\n",
       "      <td>1587671298</td>\n",
       "    </tr>\n",
       "    <tr>\n",
       "      <th>2</th>\n",
       "      <td>Christianity</td>\n",
       "      <td>233422</td>\n",
       "      <td>How do you deal with some new member suddenly ...</td>\n",
       "      <td>Have this issue now. This member somehow becam...</td>\n",
       "      <td>1</td>\n",
       "      <td>0</td>\n",
       "      <td>akhil_gs</td>\n",
       "      <td>1587671035</td>\n",
       "    </tr>\n",
       "    <tr>\n",
       "      <th>3</th>\n",
       "      <td>Christianity</td>\n",
       "      <td>233423</td>\n",
       "      <td>Ran Across a Great Podcast about Christianity,...</td>\n",
       "      <td>Hi all, \\n\\nI ran across this podcast where a ...</td>\n",
       "      <td>1</td>\n",
       "      <td>0</td>\n",
       "      <td>MrNewDenver</td>\n",
       "      <td>1587670810</td>\n",
       "    </tr>\n",
       "    <tr>\n",
       "      <th>4</th>\n",
       "      <td>Christianity</td>\n",
       "      <td>233423</td>\n",
       "      <td>Desire for wealth</td>\n",
       "      <td>Hi-\\nI have been thinking about it a bit latel...</td>\n",
       "      <td>1</td>\n",
       "      <td>0</td>\n",
       "      <td>FloppingGazelle</td>\n",
       "      <td>1587670685</td>\n",
       "    </tr>\n",
       "  </tbody>\n",
       "</table>\n",
       "</div>"
      ],
      "text/plain": [
       "      subreddit  subreddit_subscribers  \\\n",
       "0  Christianity                 233423   \n",
       "1  Christianity                 233423   \n",
       "2  Christianity                 233422   \n",
       "3  Christianity                 233423   \n",
       "4  Christianity                 233423   \n",
       "\n",
       "                                               title  \\\n",
       "0  Christian and wondering if God provides what w...   \n",
       "1  What do you think is often ignored in the bibl...   \n",
       "2  How do you deal with some new member suddenly ...   \n",
       "3  Ran Across a Great Podcast about Christianity,...   \n",
       "4                                  Desire for wealth   \n",
       "\n",
       "                                            selftext  score  num_comments  \\\n",
       "0  Please forgive me for sounding so flippant, bu...      1             0   \n",
       "1  Like genealogies for example... both Rahab and...      1             0   \n",
       "2  Have this issue now. This member somehow becam...      1             0   \n",
       "3  Hi all, \\n\\nI ran across this podcast where a ...      1             0   \n",
       "4  Hi-\\nI have been thinking about it a bit latel...      1             0   \n",
       "\n",
       "             author  created_utc  \n",
       "0  friendlyhello123   1587672956  \n",
       "1     Clear-Plastic   1587671298  \n",
       "2          akhil_gs   1587671035  \n",
       "3       MrNewDenver   1587670810  \n",
       "4   FloppingGazelle   1587670685  "
      ]
     },
     "execution_count": 3,
     "metadata": {},
     "output_type": "execute_result"
    }
   ],
   "source": [
    "df.head()"
   ]
  },
  {
   "cell_type": "code",
   "execution_count": 4,
   "metadata": {},
   "outputs": [
    {
     "data": {
      "text/plain": [
       "(28735, 8)"
      ]
     },
     "execution_count": 4,
     "metadata": {},
     "output_type": "execute_result"
    }
   ],
   "source": [
    "df.shape"
   ]
  },
  {
   "cell_type": "markdown",
   "metadata": {},
   "source": [
    "## Train/test split"
   ]
  },
  {
   "cell_type": "code",
   "execution_count": 5,
   "metadata": {},
   "outputs": [],
   "source": [
    "X = df['title']\n",
    "y = df['subreddit'] \n",
    "\n",
    "X_train, X_test, y_train, y_test = train_test_split(X, y, random_state=42, stratify=y)"
   ]
  },
  {
   "cell_type": "markdown",
   "metadata": {},
   "source": [
    "## Multinomial Naive Bayes"
   ]
  },
  {
   "cell_type": "markdown",
   "metadata": {},
   "source": [
    "Because our features represent discrete word counts, the naive Bayes model we'll use is the *multinomial* naive Bayes model."
   ]
  },
  {
   "cell_type": "code",
   "execution_count": 6,
   "metadata": {},
   "outputs": [],
   "source": [
    "# Create pipeline with CountVectorizer and MultinomialNB\n",
    "pipe = Pipeline([\n",
    "    ('cvec', CountVectorizer()),\n",
    "    ('mnb', MultinomialNB())\n",
    "])\n",
    "\n",
    "# Create paramater grid to search over\n",
    "pipe_params = {\n",
    "    'cvec__max_df': [0.4, 0.6, 0.8],\n",
    "    'cvec__ngram_range': [(1, 1), (1, 2)],\n",
    "}"
   ]
  },
  {
   "cell_type": "code",
   "execution_count": 7,
   "metadata": {},
   "outputs": [],
   "source": [
    "# Create grid search with pipeline and paramaters\n",
    "gs = GridSearchCV(pipe,\n",
    "                  pipe_params,\n",
    "                  cv=5)\n",
    "\n",
    "# Fit on training data\n",
    "gs.fit(X_train, y_train);"
   ]
  },
  {
   "cell_type": "code",
   "execution_count": 8,
   "metadata": {},
   "outputs": [
    {
     "name": "stdout",
     "output_type": "stream",
     "text": [
      "{'cvec__max_df': 0.4, 'cvec__ngram_range': (1, 1)}\n"
     ]
    }
   ],
   "source": [
    "# See what parameters the grid search settled on\n",
    "print(gs.best_params_)"
   ]
  },
  {
   "cell_type": "code",
   "execution_count": 11,
   "metadata": {},
   "outputs": [
    {
     "name": "stdout",
     "output_type": "stream",
     "text": [
      "Train score: 0.8282\n",
      "Test score: 0.7483\n",
      "Baseline accuracy: 0.5234\n"
     ]
    }
   ],
   "source": [
    "# View training score, test score, and baseline accuracy\n",
    "print('Train score:', round(gs.score(X_train, y_train), 4))\n",
    "print('Test score:', round(gs.score(X_test, y_test), 4))\n",
    "print('Baseline accuracy:', round(y.value_counts(normalize=True)[0], 4))"
   ]
  },
  {
   "cell_type": "markdown",
   "metadata": {},
   "source": [
    "## What was our model most likely to get wrong?"
   ]
  },
  {
   "cell_type": "code",
   "execution_count": 14,
   "metadata": {},
   "outputs": [
    {
     "data": {
      "image/png": "[encoded data removed]",
      "text/plain": [
       "<Figure size 432x288 with 2 Axes>"
      ]
     },
     "metadata": {
      "needs_background": "light"
     },
     "output_type": "display_data"
    }
   ],
   "source": [
    "plot_confusion_matrix(gs.best_estimator_, X_test, y_test, normalize='all', cmap='Blues');"
   ]
  },
  {
   "cell_type": "markdown",
   "metadata": {},
   "source": [
    "As with the logistic regression model, our naive Bayes model is more likely to misclassify */r/Catholicism* posts than */r/Christianity* posts."
   ]
  },
  {
   "cell_type": "markdown",
   "metadata": {},
   "source": [
    "## How do logistic regression and naive Bayes fare against one another?"
   ]
  },
  {
   "cell_type": "markdown",
   "metadata": {},
   "source": [
    "Here is how each of our models performed:"
   ]
  },
  {
   "cell_type": "markdown",
   "metadata": {},
   "source": [
    "|                   | Logistic Regression | Naive Bayes |\n",
    "|-------------------|---------------------|-------------|\n",
    "| Training score    | 0.8699              | 0.8282      |\n",
    "| Test score     | 0.7487              | 0.7483      |\n",
    "| Baseline accuracy | 0.5234              | 0.5234      |"
   ]
  },
  {
   "cell_type": "markdown",
   "metadata": {},
   "source": [
    "The naive Bayes model has a fair bit more bias, but the test scores for both models are nearly identical. It may be the case that for this problem, a 75% test accuracy rate is something of an upper bound."
   ]
  }
 ],
 "metadata": {
  "kernelspec": {
   "display_name": "Python 3",
   "language": "python",
   "name": "python3"
  },
  "language_info": {
   "codemirror_mode": {
    "name": "ipython",
    "version": 3
   },
   "file_extension": ".py",
   "mimetype": "text/x-python",
   "name": "python",
   "nbconvert_exporter": "python",
   "pygments_lexer": "ipython3",
   "version": "3.7.6"
  }
 },
 "nbformat": 4,
 "nbformat_minor": 4
}
