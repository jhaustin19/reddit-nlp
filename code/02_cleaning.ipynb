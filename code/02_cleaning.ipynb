{
 "cells": [
  {
   "cell_type": "markdown",
   "metadata": {},
   "source": [
    "# Cleaning the raw dataframe"
   ]
  },
  {
   "cell_type": "markdown",
   "metadata": {},
   "source": [
    "In this notebook, we'll import the raw dataframe we created and do some cleaning on it before moving to EDA."
   ]
  },
  {
   "cell_type": "markdown",
   "metadata": {},
   "source": [
    "## Import libraries"
   ]
  },
  {
   "cell_type": "code",
   "execution_count": 1,
   "metadata": {},
   "outputs": [],
   "source": [
    "import os\n",
    "import pandas as pd"
   ]
  },
  {
   "cell_type": "markdown",
   "metadata": {},
   "source": [
    "## Loading the data"
   ]
  },
  {
   "cell_type": "code",
   "execution_count": 2,
   "metadata": {},
   "outputs": [],
   "source": [
    "filepath = '../data/raw_1587672956.csv'"
   ]
  },
  {
   "cell_type": "code",
   "execution_count": 3,
   "metadata": {},
   "outputs": [],
   "source": [
    "# Need to set low_memory=False because of inconsistent datatypes\n",
    "df = pd.read_csv(filepath, low_memory=False)"
   ]
  },
  {
   "cell_type": "code",
   "execution_count": 4,
   "metadata": {},
   "outputs": [
    {
     "data": {
      "text/html": [
       "<div>\n",
       "<style scoped>\n",
       "    .dataframe tbody tr th:only-of-type {\n",
       "        vertical-align: middle;\n",
       "    }\n",
       "\n",
       "    .dataframe tbody tr th {\n",
       "        vertical-align: top;\n",
       "    }\n",
       "\n",
       "    .dataframe thead th {\n",
       "        text-align: right;\n",
       "    }\n",
       "</style>\n",
       "<table border=\"1\" class=\"dataframe\">\n",
       "  <thead>\n",
       "    <tr style=\"text-align: right;\">\n",
       "      <th></th>\n",
       "      <th>all_awardings</th>\n",
       "      <th>allow_live_comments</th>\n",
       "      <th>author</th>\n",
       "      <th>author_flair_css_class</th>\n",
       "      <th>author_flair_richtext</th>\n",
       "      <th>author_flair_text</th>\n",
       "      <th>author_flair_type</th>\n",
       "      <th>author_fullname</th>\n",
       "      <th>author_patreon_flair</th>\n",
       "      <th>author_premium</th>\n",
       "      <th>...</th>\n",
       "      <th>gilded</th>\n",
       "      <th>poll_data</th>\n",
       "      <th>crosspost_parent</th>\n",
       "      <th>crosspost_parent_list</th>\n",
       "      <th>distinguished</th>\n",
       "      <th>steward_reports</th>\n",
       "      <th>removed_by</th>\n",
       "      <th>updated_utc</th>\n",
       "      <th>og_description</th>\n",
       "      <th>og_title</th>\n",
       "    </tr>\n",
       "  </thead>\n",
       "  <tbody>\n",
       "    <tr>\n",
       "      <th>0</th>\n",
       "      <td>[]</td>\n",
       "      <td>False</td>\n",
       "      <td>friendlyhello123</td>\n",
       "      <td>NaN</td>\n",
       "      <td>[]</td>\n",
       "      <td>NaN</td>\n",
       "      <td>text</td>\n",
       "      <td>t2_66w0klyz</td>\n",
       "      <td>False</td>\n",
       "      <td>False</td>\n",
       "      <td>...</td>\n",
       "      <td>NaN</td>\n",
       "      <td>NaN</td>\n",
       "      <td>NaN</td>\n",
       "      <td>NaN</td>\n",
       "      <td>NaN</td>\n",
       "      <td>NaN</td>\n",
       "      <td>NaN</td>\n",
       "      <td>NaN</td>\n",
       "      <td>NaN</td>\n",
       "      <td>NaN</td>\n",
       "    </tr>\n",
       "    <tr>\n",
       "      <th>1</th>\n",
       "      <td>[]</td>\n",
       "      <td>False</td>\n",
       "      <td>jason24119949422</td>\n",
       "      <td>NaN</td>\n",
       "      <td>[]</td>\n",
       "      <td>NaN</td>\n",
       "      <td>text</td>\n",
       "      <td>t2_5riob2jy</td>\n",
       "      <td>False</td>\n",
       "      <td>False</td>\n",
       "      <td>...</td>\n",
       "      <td>NaN</td>\n",
       "      <td>NaN</td>\n",
       "      <td>NaN</td>\n",
       "      <td>NaN</td>\n",
       "      <td>NaN</td>\n",
       "      <td>NaN</td>\n",
       "      <td>NaN</td>\n",
       "      <td>NaN</td>\n",
       "      <td>NaN</td>\n",
       "      <td>NaN</td>\n",
       "    </tr>\n",
       "    <tr>\n",
       "      <th>2</th>\n",
       "      <td>[]</td>\n",
       "      <td>False</td>\n",
       "      <td>diwiwi</td>\n",
       "      <td>NaN</td>\n",
       "      <td>[]</td>\n",
       "      <td>NaN</td>\n",
       "      <td>text</td>\n",
       "      <td>t2_rsn6o6d</td>\n",
       "      <td>False</td>\n",
       "      <td>False</td>\n",
       "      <td>...</td>\n",
       "      <td>NaN</td>\n",
       "      <td>NaN</td>\n",
       "      <td>NaN</td>\n",
       "      <td>NaN</td>\n",
       "      <td>NaN</td>\n",
       "      <td>NaN</td>\n",
       "      <td>NaN</td>\n",
       "      <td>NaN</td>\n",
       "      <td>NaN</td>\n",
       "      <td>NaN</td>\n",
       "    </tr>\n",
       "    <tr>\n",
       "      <th>3</th>\n",
       "      <td>[]</td>\n",
       "      <td>False</td>\n",
       "      <td>kofrase94</td>\n",
       "      <td>NaN</td>\n",
       "      <td>[]</td>\n",
       "      <td>NaN</td>\n",
       "      <td>text</td>\n",
       "      <td>t2_6a5knvep</td>\n",
       "      <td>False</td>\n",
       "      <td>False</td>\n",
       "      <td>...</td>\n",
       "      <td>NaN</td>\n",
       "      <td>NaN</td>\n",
       "      <td>NaN</td>\n",
       "      <td>NaN</td>\n",
       "      <td>NaN</td>\n",
       "      <td>NaN</td>\n",
       "      <td>NaN</td>\n",
       "      <td>NaN</td>\n",
       "      <td>NaN</td>\n",
       "      <td>NaN</td>\n",
       "    </tr>\n",
       "    <tr>\n",
       "      <th>4</th>\n",
       "      <td>[]</td>\n",
       "      <td>False</td>\n",
       "      <td>Clear-Plastic</td>\n",
       "      <td>NaN</td>\n",
       "      <td>[]</td>\n",
       "      <td>NaN</td>\n",
       "      <td>text</td>\n",
       "      <td>t2_6adu0qmq</td>\n",
       "      <td>False</td>\n",
       "      <td>False</td>\n",
       "      <td>...</td>\n",
       "      <td>NaN</td>\n",
       "      <td>NaN</td>\n",
       "      <td>NaN</td>\n",
       "      <td>NaN</td>\n",
       "      <td>NaN</td>\n",
       "      <td>NaN</td>\n",
       "      <td>NaN</td>\n",
       "      <td>NaN</td>\n",
       "      <td>NaN</td>\n",
       "      <td>NaN</td>\n",
       "    </tr>\n",
       "  </tbody>\n",
       "</table>\n",
       "<p>5 rows × 86 columns</p>\n",
       "</div>"
      ],
      "text/plain": [
       "  all_awardings  allow_live_comments            author author_flair_css_class  \\\n",
       "0            []                False  friendlyhello123                    NaN   \n",
       "1            []                False  jason24119949422                    NaN   \n",
       "2            []                False            diwiwi                    NaN   \n",
       "3            []                False         kofrase94                    NaN   \n",
       "4            []                False     Clear-Plastic                    NaN   \n",
       "\n",
       "  author_flair_richtext author_flair_text author_flair_type author_fullname  \\\n",
       "0                    []               NaN              text     t2_66w0klyz   \n",
       "1                    []               NaN              text     t2_5riob2jy   \n",
       "2                    []               NaN              text      t2_rsn6o6d   \n",
       "3                    []               NaN              text     t2_6a5knvep   \n",
       "4                    []               NaN              text     t2_6adu0qmq   \n",
       "\n",
       "  author_patreon_flair author_premium  ... gilded  poll_data  \\\n",
       "0                False          False  ...    NaN        NaN   \n",
       "1                False          False  ...    NaN        NaN   \n",
       "2                False          False  ...    NaN        NaN   \n",
       "3                False          False  ...    NaN        NaN   \n",
       "4                False          False  ...    NaN        NaN   \n",
       "\n",
       "   crosspost_parent  crosspost_parent_list distinguished steward_reports  \\\n",
       "0               NaN                    NaN           NaN             NaN   \n",
       "1               NaN                    NaN           NaN             NaN   \n",
       "2               NaN                    NaN           NaN             NaN   \n",
       "3               NaN                    NaN           NaN             NaN   \n",
       "4               NaN                    NaN           NaN             NaN   \n",
       "\n",
       "  removed_by updated_utc  og_description  og_title  \n",
       "0        NaN         NaN             NaN       NaN  \n",
       "1        NaN         NaN             NaN       NaN  \n",
       "2        NaN         NaN             NaN       NaN  \n",
       "3        NaN         NaN             NaN       NaN  \n",
       "4        NaN         NaN             NaN       NaN  \n",
       "\n",
       "[5 rows x 86 columns]"
      ]
     },
     "execution_count": 4,
     "metadata": {},
     "output_type": "execute_result"
    }
   ],
   "source": [
    "df.head()"
   ]
  },
  {
   "cell_type": "code",
   "execution_count": 5,
   "metadata": {},
   "outputs": [
    {
     "data": {
      "text/plain": [
       "(50000, 86)"
      ]
     },
     "execution_count": 5,
     "metadata": {},
     "output_type": "execute_result"
    }
   ],
   "source": [
    "df.shape"
   ]
  },
  {
   "cell_type": "markdown",
   "metadata": {},
   "source": [
    "## Data cleaning"
   ]
  },
  {
   "cell_type": "markdown",
   "metadata": {},
   "source": [
    "### Too many features"
   ]
  },
  {
   "cell_type": "markdown",
   "metadata": {},
   "source": [
    "The Pushshift API returns far more information than is actually useful for our purposes. The first thing we'll do is trim down the number of features in our dataframe."
   ]
  },
  {
   "cell_type": "code",
   "execution_count": 6,
   "metadata": {},
   "outputs": [],
   "source": [
    "# Create new dataframe out of only potential columns of interest\n",
    "features = ['subreddit', \n",
    "            'subreddit_subscribers', \n",
    "            'title', \n",
    "            'selftext', \n",
    "            'score', \n",
    "            'num_comments', \n",
    "            'author', \n",
    "            'created_utc']\n",
    "df = df[features].copy()"
   ]
  },
  {
   "cell_type": "code",
   "execution_count": 7,
   "metadata": {},
   "outputs": [
    {
     "data": {
      "text/html": [
       "<div>\n",
       "<style scoped>\n",
       "    .dataframe tbody tr th:only-of-type {\n",
       "        vertical-align: middle;\n",
       "    }\n",
       "\n",
       "    .dataframe tbody tr th {\n",
       "        vertical-align: top;\n",
       "    }\n",
       "\n",
       "    .dataframe thead th {\n",
       "        text-align: right;\n",
       "    }\n",
       "</style>\n",
       "<table border=\"1\" class=\"dataframe\">\n",
       "  <thead>\n",
       "    <tr style=\"text-align: right;\">\n",
       "      <th></th>\n",
       "      <th>subreddit</th>\n",
       "      <th>subreddit_subscribers</th>\n",
       "      <th>title</th>\n",
       "      <th>selftext</th>\n",
       "      <th>score</th>\n",
       "      <th>num_comments</th>\n",
       "      <th>author</th>\n",
       "      <th>created_utc</th>\n",
       "    </tr>\n",
       "  </thead>\n",
       "  <tbody>\n",
       "    <tr>\n",
       "      <th>0</th>\n",
       "      <td>Christianity</td>\n",
       "      <td>233423</td>\n",
       "      <td>Christian and wondering if God provides what w...</td>\n",
       "      <td>Please forgive me for sounding so flippant, bu...</td>\n",
       "      <td>1</td>\n",
       "      <td>0</td>\n",
       "      <td>friendlyhello123</td>\n",
       "      <td>1587672956</td>\n",
       "    </tr>\n",
       "    <tr>\n",
       "      <th>1</th>\n",
       "      <td>Christianity</td>\n",
       "      <td>233423</td>\n",
       "      <td>will video games lead to hell</td>\n",
       "      <td>NaN</td>\n",
       "      <td>1</td>\n",
       "      <td>0</td>\n",
       "      <td>jason24119949422</td>\n",
       "      <td>1587672676</td>\n",
       "    </tr>\n",
       "    <tr>\n",
       "      <th>2</th>\n",
       "      <td>Christianity</td>\n",
       "      <td>233421</td>\n",
       "      <td>Should we stop telling people to read the Bibl...</td>\n",
       "      <td>NaN</td>\n",
       "      <td>1</td>\n",
       "      <td>0</td>\n",
       "      <td>diwiwi</td>\n",
       "      <td>1587672362</td>\n",
       "    </tr>\n",
       "    <tr>\n",
       "      <th>3</th>\n",
       "      <td>Christianity</td>\n",
       "      <td>233420</td>\n",
       "      <td>New to this app but I feel called to try to sp...</td>\n",
       "      <td>NaN</td>\n",
       "      <td>1</td>\n",
       "      <td>0</td>\n",
       "      <td>kofrase94</td>\n",
       "      <td>1587672281</td>\n",
       "    </tr>\n",
       "    <tr>\n",
       "      <th>4</th>\n",
       "      <td>Christianity</td>\n",
       "      <td>233423</td>\n",
       "      <td>What do you think is often ignored in the bibl...</td>\n",
       "      <td>Like genealogies for example... both Rahab and...</td>\n",
       "      <td>1</td>\n",
       "      <td>0</td>\n",
       "      <td>Clear-Plastic</td>\n",
       "      <td>1587671298</td>\n",
       "    </tr>\n",
       "  </tbody>\n",
       "</table>\n",
       "</div>"
      ],
      "text/plain": [
       "      subreddit  subreddit_subscribers  \\\n",
       "0  Christianity                 233423   \n",
       "1  Christianity                 233423   \n",
       "2  Christianity                 233421   \n",
       "3  Christianity                 233420   \n",
       "4  Christianity                 233423   \n",
       "\n",
       "                                               title  \\\n",
       "0  Christian and wondering if God provides what w...   \n",
       "1                      will video games lead to hell   \n",
       "2  Should we stop telling people to read the Bibl...   \n",
       "3  New to this app but I feel called to try to sp...   \n",
       "4  What do you think is often ignored in the bibl...   \n",
       "\n",
       "                                            selftext  score  num_comments  \\\n",
       "0  Please forgive me for sounding so flippant, bu...      1             0   \n",
       "1                                                NaN      1             0   \n",
       "2                                                NaN      1             0   \n",
       "3                                                NaN      1             0   \n",
       "4  Like genealogies for example... both Rahab and...      1             0   \n",
       "\n",
       "             author  created_utc  \n",
       "0  friendlyhello123   1587672956  \n",
       "1  jason24119949422   1587672676  \n",
       "2            diwiwi   1587672362  \n",
       "3         kofrase94   1587672281  \n",
       "4     Clear-Plastic   1587671298  "
      ]
     },
     "execution_count": 7,
     "metadata": {},
     "output_type": "execute_result"
    }
   ],
   "source": [
    "df.head()"
   ]
  },
  {
   "cell_type": "markdown",
   "metadata": {},
   "source": [
    "### Rows without a valid author"
   ]
  },
  {
   "cell_type": "markdown",
   "metadata": {},
   "source": [
    "More than a few of the `author` entries in our dataframe are marked as `[deleted]`. This indicates the orignial poster has deleted their account. Since we have so many observances, we'll not hesitate to simply drop observances with `author` marked as `[deleted]`."
   ]
  },
  {
   "cell_type": "code",
   "execution_count": 8,
   "metadata": {},
   "outputs": [
    {
     "data": {
      "text/html": [
       "<div>\n",
       "<style scoped>\n",
       "    .dataframe tbody tr th:only-of-type {\n",
       "        vertical-align: middle;\n",
       "    }\n",
       "\n",
       "    .dataframe tbody tr th {\n",
       "        vertical-align: top;\n",
       "    }\n",
       "\n",
       "    .dataframe thead th {\n",
       "        text-align: right;\n",
       "    }\n",
       "</style>\n",
       "<table border=\"1\" class=\"dataframe\">\n",
       "  <thead>\n",
       "    <tr style=\"text-align: right;\">\n",
       "      <th></th>\n",
       "      <th>subreddit</th>\n",
       "      <th>subreddit_subscribers</th>\n",
       "      <th>title</th>\n",
       "      <th>selftext</th>\n",
       "      <th>score</th>\n",
       "      <th>num_comments</th>\n",
       "      <th>author</th>\n",
       "      <th>created_utc</th>\n",
       "    </tr>\n",
       "  </thead>\n",
       "  <tbody>\n",
       "    <tr>\n",
       "      <th>228</th>\n",
       "      <td>Christianity</td>\n",
       "      <td>233299</td>\n",
       "      <td>Church</td>\n",
       "      <td>[deleted]</td>\n",
       "      <td>1</td>\n",
       "      <td>0</td>\n",
       "      <td>[deleted]</td>\n",
       "      <td>1587594293</td>\n",
       "    </tr>\n",
       "    <tr>\n",
       "      <th>232</th>\n",
       "      <td>Christianity</td>\n",
       "      <td>233297</td>\n",
       "      <td>Survey question for christians who belong to a...</td>\n",
       "      <td>[deleted]</td>\n",
       "      <td>1</td>\n",
       "      <td>2</td>\n",
       "      <td>[deleted]</td>\n",
       "      <td>1587592663</td>\n",
       "    </tr>\n",
       "    <tr>\n",
       "      <th>243</th>\n",
       "      <td>Christianity</td>\n",
       "      <td>233293</td>\n",
       "      <td>How long should it taking me to read a chapter...</td>\n",
       "      <td>[deleted]</td>\n",
       "      <td>1</td>\n",
       "      <td>0</td>\n",
       "      <td>[deleted]</td>\n",
       "      <td>1587590441</td>\n",
       "    </tr>\n",
       "    <tr>\n",
       "      <th>246</th>\n",
       "      <td>Christianity</td>\n",
       "      <td>233292</td>\n",
       "      <td>/u/ManWhoCommentsOK</td>\n",
       "      <td>[deleted]</td>\n",
       "      <td>1</td>\n",
       "      <td>0</td>\n",
       "      <td>[deleted]</td>\n",
       "      <td>1587589606</td>\n",
       "    </tr>\n",
       "    <tr>\n",
       "      <th>268</th>\n",
       "      <td>Christianity</td>\n",
       "      <td>233287</td>\n",
       "      <td>Rlly interesting, rapture dream!</td>\n",
       "      <td>[deleted]</td>\n",
       "      <td>0</td>\n",
       "      <td>0</td>\n",
       "      <td>[deleted]</td>\n",
       "      <td>1587585226</td>\n",
       "    </tr>\n",
       "    <tr>\n",
       "      <th>...</th>\n",
       "      <td>...</td>\n",
       "      <td>...</td>\n",
       "      <td>...</td>\n",
       "      <td>...</td>\n",
       "      <td>...</td>\n",
       "      <td>...</td>\n",
       "      <td>...</td>\n",
       "      <td>...</td>\n",
       "    </tr>\n",
       "    <tr>\n",
       "      <th>47698</th>\n",
       "      <td>Catholicism</td>\n",
       "      <td>74857</td>\n",
       "      <td>How To Pray The Traditional Rosary</td>\n",
       "      <td>[deleted]</td>\n",
       "      <td>1</td>\n",
       "      <td>0</td>\n",
       "      <td>[deleted]</td>\n",
       "      <td>1570137584</td>\n",
       "    </tr>\n",
       "    <tr>\n",
       "      <th>48457</th>\n",
       "      <td>Catholicism</td>\n",
       "      <td>74337</td>\n",
       "      <td>Did anyone see Bishop Barron's AMA today?</td>\n",
       "      <td>NaN</td>\n",
       "      <td>1</td>\n",
       "      <td>2</td>\n",
       "      <td>[deleted]</td>\n",
       "      <td>1569546741</td>\n",
       "    </tr>\n",
       "    <tr>\n",
       "      <th>48827</th>\n",
       "      <td>Catholicism</td>\n",
       "      <td>73966</td>\n",
       "      <td>What are y'alls thoughts on this?</td>\n",
       "      <td>[deleted]</td>\n",
       "      <td>1</td>\n",
       "      <td>0</td>\n",
       "      <td>[deleted]</td>\n",
       "      <td>1569280755</td>\n",
       "    </tr>\n",
       "    <tr>\n",
       "      <th>49053</th>\n",
       "      <td>Catholicism</td>\n",
       "      <td>73795</td>\n",
       "      <td>A Catholic Poem on the Topic Of Nostalgia</td>\n",
       "      <td>[deleted]</td>\n",
       "      <td>1</td>\n",
       "      <td>0</td>\n",
       "      <td>[deleted]</td>\n",
       "      <td>1569101273</td>\n",
       "    </tr>\n",
       "    <tr>\n",
       "      <th>49236</th>\n",
       "      <td>Catholicism</td>\n",
       "      <td>73672</td>\n",
       "      <td>Two challenges I've been having with what the ...</td>\n",
       "      <td>[deleted]</td>\n",
       "      <td>1</td>\n",
       "      <td>0</td>\n",
       "      <td>[deleted]</td>\n",
       "      <td>1568939136</td>\n",
       "    </tr>\n",
       "  </tbody>\n",
       "</table>\n",
       "<p>637 rows × 8 columns</p>\n",
       "</div>"
      ],
      "text/plain": [
       "          subreddit  subreddit_subscribers  \\\n",
       "228    Christianity                 233299   \n",
       "232    Christianity                 233297   \n",
       "243    Christianity                 233293   \n",
       "246    Christianity                 233292   \n",
       "268    Christianity                 233287   \n",
       "...             ...                    ...   \n",
       "47698   Catholicism                  74857   \n",
       "48457   Catholicism                  74337   \n",
       "48827   Catholicism                  73966   \n",
       "49053   Catholicism                  73795   \n",
       "49236   Catholicism                  73672   \n",
       "\n",
       "                                                   title   selftext  score  \\\n",
       "228                                               Church  [deleted]      1   \n",
       "232    Survey question for christians who belong to a...  [deleted]      1   \n",
       "243    How long should it taking me to read a chapter...  [deleted]      1   \n",
       "246                                  /u/ManWhoCommentsOK  [deleted]      1   \n",
       "268                     Rlly interesting, rapture dream!  [deleted]      0   \n",
       "...                                                  ...        ...    ...   \n",
       "47698                 How To Pray The Traditional Rosary  [deleted]      1   \n",
       "48457          Did anyone see Bishop Barron's AMA today?        NaN      1   \n",
       "48827                  What are y'alls thoughts on this?  [deleted]      1   \n",
       "49053          A Catholic Poem on the Topic Of Nostalgia  [deleted]      1   \n",
       "49236  Two challenges I've been having with what the ...  [deleted]      1   \n",
       "\n",
       "       num_comments     author  created_utc  \n",
       "228               0  [deleted]   1587594293  \n",
       "232               2  [deleted]   1587592663  \n",
       "243               0  [deleted]   1587590441  \n",
       "246               0  [deleted]   1587589606  \n",
       "268               0  [deleted]   1587585226  \n",
       "...             ...        ...          ...  \n",
       "47698             0  [deleted]   1570137584  \n",
       "48457             2  [deleted]   1569546741  \n",
       "48827             0  [deleted]   1569280755  \n",
       "49053             0  [deleted]   1569101273  \n",
       "49236             0  [deleted]   1568939136  \n",
       "\n",
       "[637 rows x 8 columns]"
      ]
     },
     "execution_count": 8,
     "metadata": {},
     "output_type": "execute_result"
    }
   ],
   "source": [
    "df[df['author'] == '[deleted]']"
   ]
  },
  {
   "cell_type": "code",
   "execution_count": 9,
   "metadata": {},
   "outputs": [],
   "source": [
    "# Drop rows with deleted authors\n",
    "no_author_indices = df[df['author'] == '[deleted]'].index\n",
    "df.drop(index=no_author_indices, inplace=True)"
   ]
  },
  {
   "cell_type": "markdown",
   "metadata": {},
   "source": [
    "### Rows without valid selftext"
   ]
  },
  {
   "cell_type": "markdown",
   "metadata": {},
   "source": [
    "Note that we also have a fair amount of posts with the `selftext` column marked as `[removed]`. This indicates a post which was removed by some moderator of the subreddit for a violation of community rules. We have substantially more observances which fall into this category. However, since they were ultimately deemed to not be appropriate for the given community, we'll also not hesitate to drop them."
   ]
  },
  {
   "cell_type": "code",
   "execution_count": 10,
   "metadata": {},
   "outputs": [
    {
     "data": {
      "text/html": [
       "<div>\n",
       "<style scoped>\n",
       "    .dataframe tbody tr th:only-of-type {\n",
       "        vertical-align: middle;\n",
       "    }\n",
       "\n",
       "    .dataframe tbody tr th {\n",
       "        vertical-align: top;\n",
       "    }\n",
       "\n",
       "    .dataframe thead th {\n",
       "        text-align: right;\n",
       "    }\n",
       "</style>\n",
       "<table border=\"1\" class=\"dataframe\">\n",
       "  <thead>\n",
       "    <tr style=\"text-align: right;\">\n",
       "      <th></th>\n",
       "      <th>subreddit</th>\n",
       "      <th>subreddit_subscribers</th>\n",
       "      <th>title</th>\n",
       "      <th>selftext</th>\n",
       "      <th>score</th>\n",
       "      <th>num_comments</th>\n",
       "      <th>author</th>\n",
       "      <th>created_utc</th>\n",
       "    </tr>\n",
       "  </thead>\n",
       "  <tbody>\n",
       "    <tr>\n",
       "      <th>80</th>\n",
       "      <td>Christianity</td>\n",
       "      <td>233386</td>\n",
       "      <td>Good Morning</td>\n",
       "      <td>[removed]</td>\n",
       "      <td>1</td>\n",
       "      <td>0</td>\n",
       "      <td>mobileshalom</td>\n",
       "      <td>1587649184</td>\n",
       "    </tr>\n",
       "    <tr>\n",
       "      <th>87</th>\n",
       "      <td>Christianity</td>\n",
       "      <td>233385</td>\n",
       "      <td>Interesting 'social experiment'</td>\n",
       "      <td>[removed]</td>\n",
       "      <td>1</td>\n",
       "      <td>0</td>\n",
       "      <td>jazzlike_waterdog</td>\n",
       "      <td>1587646291</td>\n",
       "    </tr>\n",
       "    <tr>\n",
       "      <th>136</th>\n",
       "      <td>Christianity</td>\n",
       "      <td>233344</td>\n",
       "      <td>2020</td>\n",
       "      <td>[removed]</td>\n",
       "      <td>1</td>\n",
       "      <td>2</td>\n",
       "      <td>kvngsias</td>\n",
       "      <td>1587621633</td>\n",
       "    </tr>\n",
       "    <tr>\n",
       "      <th>192</th>\n",
       "      <td>Christianity</td>\n",
       "      <td>233317</td>\n",
       "      <td>Atheists: what are you doing to get yourselves...</td>\n",
       "      <td>[removed]</td>\n",
       "      <td>1</td>\n",
       "      <td>0</td>\n",
       "      <td>FeistyResearcher7</td>\n",
       "      <td>1587604629</td>\n",
       "    </tr>\n",
       "    <tr>\n",
       "      <th>229</th>\n",
       "      <td>Christianity</td>\n",
       "      <td>233299</td>\n",
       "      <td>Did I accidentally pray to the Devil? (OCD)</td>\n",
       "      <td>[removed]</td>\n",
       "      <td>1</td>\n",
       "      <td>10</td>\n",
       "      <td>Christian_Boy42</td>\n",
       "      <td>1587593530</td>\n",
       "    </tr>\n",
       "    <tr>\n",
       "      <th>...</th>\n",
       "      <td>...</td>\n",
       "      <td>...</td>\n",
       "      <td>...</td>\n",
       "      <td>...</td>\n",
       "      <td>...</td>\n",
       "      <td>...</td>\n",
       "      <td>...</td>\n",
       "      <td>...</td>\n",
       "    </tr>\n",
       "    <tr>\n",
       "      <th>49891</th>\n",
       "      <td>Catholicism</td>\n",
       "      <td>73237</td>\n",
       "      <td>How specific do you have to be when confessing...</td>\n",
       "      <td>[removed]</td>\n",
       "      <td>5</td>\n",
       "      <td>15</td>\n",
       "      <td>catholicwarrior57</td>\n",
       "      <td>1568351037</td>\n",
       "    </tr>\n",
       "    <tr>\n",
       "      <th>49903</th>\n",
       "      <td>Catholicism</td>\n",
       "      <td>73231</td>\n",
       "      <td>The Parish Narcissist</td>\n",
       "      <td>[removed]</td>\n",
       "      <td>0</td>\n",
       "      <td>4</td>\n",
       "      <td>Shnimzel</td>\n",
       "      <td>1568340851</td>\n",
       "    </tr>\n",
       "    <tr>\n",
       "      <th>49907</th>\n",
       "      <td>Catholicism</td>\n",
       "      <td>73228</td>\n",
       "      <td>Any good resources on the history of the church?</td>\n",
       "      <td>[removed]</td>\n",
       "      <td>0</td>\n",
       "      <td>0</td>\n",
       "      <td>Red_Baron_Cath</td>\n",
       "      <td>1568335550</td>\n",
       "    </tr>\n",
       "    <tr>\n",
       "      <th>49921</th>\n",
       "      <td>Catholicism</td>\n",
       "      <td>73216</td>\n",
       "      <td>Is it a good idea to quit masturbation for a f...</td>\n",
       "      <td>[removed]</td>\n",
       "      <td>0</td>\n",
       "      <td>2</td>\n",
       "      <td>datpoosniffer445</td>\n",
       "      <td>1568323889</td>\n",
       "    </tr>\n",
       "    <tr>\n",
       "      <th>49993</th>\n",
       "      <td>Catholicism</td>\n",
       "      <td>73170</td>\n",
       "      <td>Does this disqualify me from being a priest? (...</td>\n",
       "      <td>[removed]</td>\n",
       "      <td>2</td>\n",
       "      <td>3</td>\n",
       "      <td>JWMeansJustWondering</td>\n",
       "      <td>1568249103</td>\n",
       "    </tr>\n",
       "  </tbody>\n",
       "</table>\n",
       "<p>2047 rows × 8 columns</p>\n",
       "</div>"
      ],
      "text/plain": [
       "          subreddit  subreddit_subscribers  \\\n",
       "80     Christianity                 233386   \n",
       "87     Christianity                 233385   \n",
       "136    Christianity                 233344   \n",
       "192    Christianity                 233317   \n",
       "229    Christianity                 233299   \n",
       "...             ...                    ...   \n",
       "49891   Catholicism                  73237   \n",
       "49903   Catholicism                  73231   \n",
       "49907   Catholicism                  73228   \n",
       "49921   Catholicism                  73216   \n",
       "49993   Catholicism                  73170   \n",
       "\n",
       "                                                   title   selftext  score  \\\n",
       "80                                          Good Morning  [removed]      1   \n",
       "87                       Interesting 'social experiment'  [removed]      1   \n",
       "136                                                 2020  [removed]      1   \n",
       "192    Atheists: what are you doing to get yourselves...  [removed]      1   \n",
       "229          Did I accidentally pray to the Devil? (OCD)  [removed]      1   \n",
       "...                                                  ...        ...    ...   \n",
       "49891  How specific do you have to be when confessing...  [removed]      5   \n",
       "49903                              The Parish Narcissist  [removed]      0   \n",
       "49907   Any good resources on the history of the church?  [removed]      0   \n",
       "49921  Is it a good idea to quit masturbation for a f...  [removed]      0   \n",
       "49993  Does this disqualify me from being a priest? (...  [removed]      2   \n",
       "\n",
       "       num_comments                author  created_utc  \n",
       "80                0          mobileshalom   1587649184  \n",
       "87                0     jazzlike_waterdog   1587646291  \n",
       "136               2              kvngsias   1587621633  \n",
       "192               0     FeistyResearcher7   1587604629  \n",
       "229              10       Christian_Boy42   1587593530  \n",
       "...             ...                   ...          ...  \n",
       "49891            15     catholicwarrior57   1568351037  \n",
       "49903             4              Shnimzel   1568340851  \n",
       "49907             0        Red_Baron_Cath   1568335550  \n",
       "49921             2      datpoosniffer445   1568323889  \n",
       "49993             3  JWMeansJustWondering   1568249103  \n",
       "\n",
       "[2047 rows x 8 columns]"
      ]
     },
     "execution_count": 10,
     "metadata": {},
     "output_type": "execute_result"
    }
   ],
   "source": [
    "df[df['selftext'] == '[removed]']"
   ]
  },
  {
   "cell_type": "code",
   "execution_count": 11,
   "metadata": {},
   "outputs": [],
   "source": [
    "# Drop rows with removed selftext\n",
    "removed = df[df['selftext'] == '[removed]'].index\n",
    "df.drop(index=removed, inplace=True)"
   ]
  },
  {
   "cell_type": "markdown",
   "metadata": {},
   "source": [
    "### Reposts"
   ]
  },
  {
   "cell_type": "markdown",
   "metadata": {},
   "source": [
    "We've accidentally grabbed more than a few \"reposts\" in our dataframe. A repost is a post with the same exact content as one previously posted to the community. The presence of reposts will bias any model we create by giving it the impression that certain sentiments are more common than they actually are. We'll delete the reposts."
   ]
  },
  {
   "cell_type": "code",
   "execution_count": 12,
   "metadata": {},
   "outputs": [
    {
     "data": {
      "text/plain": [
       "\\nPlease post your prayer requests in this weekly thread, giving enough detail to be helpful. If you have been remembering someone or something in your prayers, you may also note that here.\\n\\nWe also ask that you also take time to remember [our beloved departed](http://www.reddit.com/r/TelaIgne/comments/30fxz4/rtelaigne_roll_of_the_faithful_departed/). Their final purification and ultimate union with God is included in our weekly intentions here. Consider adding your departed loved ones to that roll.\\n\\n---\\n\\n### Tela Igne\\n\\n/r/Catholicism is home to **Tela Igne**, a group of redditors devoted to praying for the intentions left here every week. To learn more about the group and for information on how to join, please see *[Tela Igne—Rules and Regulations for Membership](http://www.reddit.com/r/TelaIgne/comments/2bpp19/tela_igne_rules_and_regs_for_membership/).*                                                                                                                                                                                                                                                                                                                                                                                                                                                                                                                                                                                                                                                                                                                                                                                                                                                                                                                                                                                                                                                                                                                                                                                                                                                                                                                                                                                                                                                                                                                                                                                                                                                                                                                                                                                                                                                                                                                                                                                                                                                                                                                                                                                                                                                                                                                                                                                                                                                                                                                                                                                                                                                                                                                                                                                                                                                                                                                                   32\n",
       "I can't see a human woman created by god as being my spiritual mother. She doesn't control Jesus either.                                                                                                                                                                                                                                                                                                                                                                                                                                                                                                                                                                                                                                                                                                                                                                                                                                                                                                                                                                                                                                                                                                                                                                                                                                                                                                                                                                                                                                                                                                                                                                                                                                                                                                                                                                                                                                                                                                                                                                                                                                                                                                                                                                                                                                                                                                                                                                                                                                                                                                                                                                                                                                                                                                                                                                                                                                                                                                                                                                                                                                                                                                                                                                                                                                                                                                                                                                                                                                                                                                                                                                                                                                                                                                                                      10\n",
       "Title                                                                                                                                                                                                                                                                                                                                                                                                                                                                                                                                                                                                                                                                                                                                                                                                                                                                                                                                                                                                                                                                                                                                                                                                                                                                                                                                                                                                                                                                                                                                                                                                                                                                                                                                                                                                                                                                                                                                                                                                                                                                                                                                                                                                                                                                                                                                                                                                                                                                                                                                                                                                                                                                                                                                                                                                                                                                                                                                                                                                                                                                                                                                                                                                                                                                                                                                                                                                                                                                                                                                                                                                                                                                                                                                                                                                                                          9\n",
       "Title.                                                                                                                                                                                                                                                                                                                                                                                                                                                                                                                                                                                                                                                                                                                                                                                                                                                                                                                                                                                                                                                                                                                                                                                                                                                                                                                                                                                                                                                                                                                                                                                                                                                                                                                                                                                                                                                                                                                                                                                                                                                                                                                                                                                                                                                                                                                                                                                                                                                                                                                                                                                                                                                                                                                                                                                                                                                                                                                                                                                                                                                                                                                                                                                                                                                                                                                                                                                                                                                                                                                                                                                                                                                                                                                                                                                                                                         7\n",
       " \"im mikie i have autism, i like disney, minecraft, starwars, frozen, paw patrol, dinosours, hot wheels, legos , disney, movies music, i like swimming , fishing, boating, heres my dignoses ok im 28 i have autism, adhd, sensory processing disorder , speech and learning issues , gi issues, gerd, acid reflex, scoliosis, i have asthma, allergies developmental delays, i been though alot in my life i was in a oxygen tent as a kid too , bad breathing issues as a kid from asthma, was in the hospital alot too im very strong and i dont give up i had over 23 surgery's so far i was in special ed till third grade i did ok than i was put into general ed with extra help and i had a resource teacher too i had ok grades too school was ok i was bullied though but i was ok i went on all the field trips, i was in rotc, ffa, student council, i tried having fun in school too , i liked school i liked history the most, i graduated in 2011 with a 2.9 gpa my childhood was ok, i liked playing outside, i like legos, hot wheels, swimming, my power wheels truck, riding my bike too, going too the park, and movies and music my mile stones are i couldn't walk till age 3, was potty trained at age 4, talked at age 5, rode a bike at age 6 , tied my shoes at age 11 im scared of dentists im getting better i know there good people , im scared of deep water but im getting better at swimming, i was scared of the dark till like age 15 now im ok with the dark, some of the things i like are, fishing, boating, , swimming, bowling, reading i was very good reading as kid too i was a book nerd , i liked helping others in school, here is s more things i like i love hot wheels, i like riding bikes, i love bugs, reptiles, animals, horses ,my iq was 62 i belive its much higher , i like too wacth movies, i like tv, music, i have autism but most of all i have kindness in my heart i love too voice my opinion , im sorry i like everyone in this group, i like too help others i like too give advice heres a little about mehelp with lots of stuff in my life my mom helps me lots in my life shes my hero as a kid i always had her and i still have my mom now my favorite person is my mom i never had many friends but i was ok i can talk walk do lots of things i have bad learning issues i have asthma . allergy's i have anxiety issues bad i have night terrors i dont like yelling or mean people i cry when people are mean too me im over senstive i still use use a waterproof mattress cover i do it helps me with my asthma and allegrys and keeps the mattress clean from spills i use 2 zippered mattress covers there both waterproof and a waterproof mattress pad, i love too sing,, i love too write stories, i want a bullying law passed so no one is builled it hurts i still like footed pajamas, i like water parks, helping people , i still believe in Santa i wish people understood autism and special needs i may look normal but theirs so much i need help with, i fear dentists im scared of people yelling at me , im scared of deep water, i have very bad anxiety , it hard when people think your high functioning you can do it they dont know whats going on in my brain i can do lots of stuff but i still struggle i dont understand most things and sometimes have repeat stuff so i understand i am not good at paperwork my mommy helps me i know what everyone goes though and i know i need help with stuff im not fully mature my maturity level is at a 15 year olds level i love too eat pizza i dont like mustrad but like mayo , im scared of death i never peed the bed before but sometimes scared my meds can cause it i like too help others i love too chill in my room in my jammies im just me i hope this helps\" - Michael     6\n",
       "Name: selftext, dtype: int64"
      ]
     },
     "execution_count": 12,
     "metadata": {},
     "output_type": "execute_result"
    }
   ],
   "source": [
    "df['selftext'].value_counts()[:5]"
   ]
  },
  {
   "cell_type": "code",
   "execution_count": 13,
   "metadata": {},
   "outputs": [
    {
     "data": {
      "text/plain": [
       "Question              48\n",
       "Prayer request        37\n",
       "Please pray for me    31\n",
       "Help                  27\n",
       "I need help           17\n",
       "Name: title, dtype: int64"
      ]
     },
     "execution_count": 13,
     "metadata": {},
     "output_type": "execute_result"
    }
   ],
   "source": [
    "df['title'].value_counts()[:5]"
   ]
  },
  {
   "cell_type": "code",
   "execution_count": 14,
   "metadata": {},
   "outputs": [],
   "source": [
    "# Drop posts with the same selftext\n",
    "df.drop_duplicates(subset=['subreddit', 'selftext'], inplace=True)"
   ]
  },
  {
   "cell_type": "code",
   "execution_count": 15,
   "metadata": {},
   "outputs": [],
   "source": [
    "# Drop posts with the same title\n",
    "df.drop_duplicates(subset=['subreddit', 'title'], inplace=True)"
   ]
  },
  {
   "cell_type": "code",
   "execution_count": 16,
   "metadata": {},
   "outputs": [
    {
     "data": {
      "text/plain": [
       "(28737, 8)"
      ]
     },
     "execution_count": 16,
     "metadata": {},
     "output_type": "execute_result"
    }
   ],
   "source": [
    "# How many observations are we left with?\n",
    "df.shape"
   ]
  },
  {
   "cell_type": "markdown",
   "metadata": {},
   "source": [
    "We've lost a significint number of observances by removing reposts, but we still have a dataframe with almost 30,000 rows."
   ]
  },
  {
   "cell_type": "markdown",
   "metadata": {},
   "source": [
    "### Null values"
   ]
  },
  {
   "cell_type": "markdown",
   "metadata": {},
   "source": [
    "Finally, we have a few null values in the dataset. We can safely drop these considering the sheer volume of posts we have."
   ]
  },
  {
   "cell_type": "code",
   "execution_count": 17,
   "metadata": {},
   "outputs": [
    {
     "data": {
      "text/plain": [
       "subreddit                0\n",
       "subreddit_subscribers    0\n",
       "title                    0\n",
       "selftext                 2\n",
       "score                    0\n",
       "num_comments             0\n",
       "author                   0\n",
       "created_utc              0\n",
       "dtype: int64"
      ]
     },
     "execution_count": 17,
     "metadata": {},
     "output_type": "execute_result"
    }
   ],
   "source": [
    "df.isnull().sum()"
   ]
  },
  {
   "cell_type": "code",
   "execution_count": 18,
   "metadata": {},
   "outputs": [],
   "source": [
    "df.dropna(inplace=True)"
   ]
  },
  {
   "cell_type": "code",
   "execution_count": 19,
   "metadata": {},
   "outputs": [
    {
     "data": {
      "text/plain": [
       "(28735, 8)"
      ]
     },
     "execution_count": 19,
     "metadata": {},
     "output_type": "execute_result"
    }
   ],
   "source": [
    "df.shape"
   ]
  },
  {
   "cell_type": "markdown",
   "metadata": {},
   "source": [
    "## Exporting clean data"
   ]
  },
  {
   "cell_type": "code",
   "execution_count": 20,
   "metadata": {},
   "outputs": [],
   "source": [
    "try:\n",
    "    os.mkdir('../data')\n",
    "except FileExistsError:\n",
    "    pass"
   ]
  },
  {
   "cell_type": "code",
   "execution_count": 21,
   "metadata": {},
   "outputs": [],
   "source": [
    "filepath = f'../data/clean{filepath.replace(\"../data/raw\", \"\")}'\n",
    "df.to_csv(filepath, index=False)"
   ]
  },
  {
   "cell_type": "markdown",
   "metadata": {},
   "source": [
    "Now that we have a clean dataframe to work with, we can move on to performing EDA in a separate notebook."
   ]
  }
 ],
 "metadata": {
  "kernelspec": {
   "display_name": "Python 3",
   "language": "python",
   "name": "python3"
  },
  "language_info": {
   "codemirror_mode": {
    "name": "ipython",
    "version": 3
   },
   "file_extension": ".py",
   "mimetype": "text/x-python",
   "name": "python",
   "nbconvert_exporter": "python",
   "pygments_lexer": "ipython3",
   "version": "3.7.6"
  }
 },
 "nbformat": 4,
 "nbformat_minor": 4
}
