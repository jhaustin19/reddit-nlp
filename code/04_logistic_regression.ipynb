{
 "cells": [
  {
   "cell_type": "markdown",
   "metadata": {},
   "source": [
    "# Building a logistic regression model"
   ]
  },
  {
   "cell_type": "markdown",
   "metadata": {},
   "source": [
    "In this notebook, I'm building a [logistic regression](https://en.wikipedia.org/wiki/Logistic_regression) model to predict which subreddit a post came from based on its title. I'll rely on `CountVectorizer` to do this. The benefit to building a logistic regression model is that we'll have interpretable results, meaning we can decipher which title words seem to be most indicative of the subreddit they came from."
   ]
  },
  {
   "cell_type": "markdown",
   "metadata": {},
   "source": [
    "## Importing Libraries"
   ]
  },
  {
   "cell_type": "code",
   "execution_count": 15,
   "metadata": {},
   "outputs": [],
   "source": [
    "import numpy as np\n",
    "import pandas as pd\n",
    "\n",
    "from sklearn.feature_extraction.text import CountVectorizer\n",
    "from sklearn.linear_model import LogisticRegression\n",
    "from sklearn.metrics import plot_confusion_matrix\n",
    "from sklearn.model_selection import GridSearchCV, train_test_split\n",
    "from sklearn.pipeline import Pipeline"
   ]
  },
  {
   "cell_type": "markdown",
   "metadata": {},
   "source": [
    "## Loading the data"
   ]
  },
  {
   "cell_type": "code",
   "execution_count": 2,
   "metadata": {},
   "outputs": [],
   "source": [
    "filepath = '../data/clean_1587672956.csv'\n",
    "df = pd.read_csv(filepath)"
   ]
  },
  {
   "cell_type": "code",
   "execution_count": 3,
   "metadata": {},
   "outputs": [
    {
     "data": {
      "text/html": [
       "<div>\n",
       "<style scoped>\n",
       "    .dataframe tbody tr th:only-of-type {\n",
       "        vertical-align: middle;\n",
       "    }\n",
       "\n",
       "    .dataframe tbody tr th {\n",
       "        vertical-align: top;\n",
       "    }\n",
       "\n",
       "    .dataframe thead th {\n",
       "        text-align: right;\n",
       "    }\n",
       "</style>\n",
       "<table border=\"1\" class=\"dataframe\">\n",
       "  <thead>\n",
       "    <tr style=\"text-align: right;\">\n",
       "      <th></th>\n",
       "      <th>subreddit</th>\n",
       "      <th>subreddit_subscribers</th>\n",
       "      <th>title</th>\n",
       "      <th>selftext</th>\n",
       "      <th>score</th>\n",
       "      <th>num_comments</th>\n",
       "      <th>author</th>\n",
       "      <th>created_utc</th>\n",
       "    </tr>\n",
       "  </thead>\n",
       "  <tbody>\n",
       "    <tr>\n",
       "      <th>0</th>\n",
       "      <td>Christianity</td>\n",
       "      <td>233423</td>\n",
       "      <td>Christian and wondering if God provides what w...</td>\n",
       "      <td>Please forgive me for sounding so flippant, bu...</td>\n",
       "      <td>1</td>\n",
       "      <td>0</td>\n",
       "      <td>friendlyhello123</td>\n",
       "      <td>1587672956</td>\n",
       "    </tr>\n",
       "    <tr>\n",
       "      <th>1</th>\n",
       "      <td>Christianity</td>\n",
       "      <td>233423</td>\n",
       "      <td>What do you think is often ignored in the bibl...</td>\n",
       "      <td>Like genealogies for example... both Rahab and...</td>\n",
       "      <td>1</td>\n",
       "      <td>0</td>\n",
       "      <td>Clear-Plastic</td>\n",
       "      <td>1587671298</td>\n",
       "    </tr>\n",
       "    <tr>\n",
       "      <th>2</th>\n",
       "      <td>Christianity</td>\n",
       "      <td>233422</td>\n",
       "      <td>How do you deal with some new member suddenly ...</td>\n",
       "      <td>Have this issue now. This member somehow becam...</td>\n",
       "      <td>1</td>\n",
       "      <td>0</td>\n",
       "      <td>akhil_gs</td>\n",
       "      <td>1587671035</td>\n",
       "    </tr>\n",
       "    <tr>\n",
       "      <th>3</th>\n",
       "      <td>Christianity</td>\n",
       "      <td>233423</td>\n",
       "      <td>Ran Across a Great Podcast about Christianity,...</td>\n",
       "      <td>Hi all, \\n\\nI ran across this podcast where a ...</td>\n",
       "      <td>1</td>\n",
       "      <td>0</td>\n",
       "      <td>MrNewDenver</td>\n",
       "      <td>1587670810</td>\n",
       "    </tr>\n",
       "    <tr>\n",
       "      <th>4</th>\n",
       "      <td>Christianity</td>\n",
       "      <td>233423</td>\n",
       "      <td>Desire for wealth</td>\n",
       "      <td>Hi-\\nI have been thinking about it a bit latel...</td>\n",
       "      <td>1</td>\n",
       "      <td>0</td>\n",
       "      <td>FloppingGazelle</td>\n",
       "      <td>1587670685</td>\n",
       "    </tr>\n",
       "  </tbody>\n",
       "</table>\n",
       "</div>"
      ],
      "text/plain": [
       "      subreddit  subreddit_subscribers  \\\n",
       "0  Christianity                 233423   \n",
       "1  Christianity                 233423   \n",
       "2  Christianity                 233422   \n",
       "3  Christianity                 233423   \n",
       "4  Christianity                 233423   \n",
       "\n",
       "                                               title  \\\n",
       "0  Christian and wondering if God provides what w...   \n",
       "1  What do you think is often ignored in the bibl...   \n",
       "2  How do you deal with some new member suddenly ...   \n",
       "3  Ran Across a Great Podcast about Christianity,...   \n",
       "4                                  Desire for wealth   \n",
       "\n",
       "                                            selftext  score  num_comments  \\\n",
       "0  Please forgive me for sounding so flippant, bu...      1             0   \n",
       "1  Like genealogies for example... both Rahab and...      1             0   \n",
       "2  Have this issue now. This member somehow becam...      1             0   \n",
       "3  Hi all, \\n\\nI ran across this podcast where a ...      1             0   \n",
       "4  Hi-\\nI have been thinking about it a bit latel...      1             0   \n",
       "\n",
       "             author  created_utc  \n",
       "0  friendlyhello123   1587672956  \n",
       "1     Clear-Plastic   1587671298  \n",
       "2          akhil_gs   1587671035  \n",
       "3       MrNewDenver   1587670810  \n",
       "4   FloppingGazelle   1587670685  "
      ]
     },
     "execution_count": 3,
     "metadata": {},
     "output_type": "execute_result"
    }
   ],
   "source": [
    "df.head()"
   ]
  },
  {
   "cell_type": "code",
   "execution_count": 4,
   "metadata": {},
   "outputs": [
    {
     "data": {
      "text/plain": [
       "(28735, 8)"
      ]
     },
     "execution_count": 4,
     "metadata": {},
     "output_type": "execute_result"
    }
   ],
   "source": [
    "df.shape"
   ]
  },
  {
   "cell_type": "markdown",
   "metadata": {},
   "source": [
    "## Train/test split"
   ]
  },
  {
   "cell_type": "code",
   "execution_count": 5,
   "metadata": {},
   "outputs": [],
   "source": [
    "X = df['title']\n",
    "y = df['subreddit'] \n",
    "\n",
    "X_train, X_test, y_train, y_test = train_test_split(X, y, random_state=42, stratify=y)"
   ]
  },
  {
   "cell_type": "markdown",
   "metadata": {},
   "source": [
    "## Creating a pipeline and grid searching"
   ]
  },
  {
   "cell_type": "code",
   "execution_count": 6,
   "metadata": {},
   "outputs": [],
   "source": [
    "# Create pipeline object with CountVectorizer and LogisticRegression\n",
    "pipe = Pipeline([\n",
    "    ('cvec', CountVectorizer()),\n",
    "    ('logreg', LogisticRegression(solver='liblinear', max_iter=1000))\n",
    "])\n",
    "\n",
    "# Create paramater grid to search over\n",
    "pipe_params = {\n",
    "    'cvec__max_df': [0.4, 0.6, 0.8],\n",
    "    'cvec__ngram_range': [(1, 1), (1, 2)],\n",
    "    'logreg__C': [0.01, 0.1, 1],\n",
    "    'logreg__penalty': ['l1', 'l2'],\n",
    "}"
   ]
  },
  {
   "cell_type": "code",
   "execution_count": 7,
   "metadata": {},
   "outputs": [],
   "source": [
    "# Create grid search with pipeline and paramaters\n",
    "gs = GridSearchCV(pipe,\n",
    "                  pipe_params,\n",
    "                  cv=5)\n",
    "\n",
    "# Fit on training data\n",
    "gs.fit(X_train, y_train);"
   ]
  },
  {
   "cell_type": "code",
   "execution_count": 8,
   "metadata": {},
   "outputs": [
    {
     "name": "stdout",
     "output_type": "stream",
     "text": [
      "{'cvec__max_df': 0.4, 'cvec__ngram_range': (1, 2), 'logreg__C': 0.1, 'logreg__penalty': 'l2'}\n"
     ]
    }
   ],
   "source": [
    "# See what parameters the grid search settled on\n",
    "print(gs.best_params_)"
   ]
  },
  {
   "cell_type": "code",
   "execution_count": 9,
   "metadata": {},
   "outputs": [
    {
     "name": "stdout",
     "output_type": "stream",
     "text": [
      "Train score: 0.8699\n",
      "Test score: 0.7487\n",
      "Baseline accuracy: 0.5234\n"
     ]
    }
   ],
   "source": [
    "# View training score, test score, and baseline accuracy\n",
    "print('Train score:', round(gs.score(X_train, y_train), 4))\n",
    "print('Test score:', round(gs.score(X_test, y_test), 4))\n",
    "print('Baseline accuracy:', round(y.value_counts(normalize=True)[0], 4))"
   ]
  },
  {
   "cell_type": "markdown",
   "metadata": {},
   "source": [
    "Overall, a 75% accuracy score is not too bad, especially considering that */r/Catholicism* is essentially a subset of */r/Christianity*. I'm a little disappointed that the model looks to be substantially overfitting, but no degree of regularization seems to help."
   ]
  },
  {
   "cell_type": "markdown",
   "metadata": {},
   "source": [
    "## Which words and phrases tended to be most predictive?"
   ]
  },
  {
   "cell_type": "code",
   "execution_count": 10,
   "metadata": {},
   "outputs": [],
   "source": [
    "# Get words used in the model\n",
    "words = gs.best_estimator_.named_steps['cvec'].get_feature_names()\n",
    "\n",
    "# Get associated coefficients of words used\n",
    "coefficients = gs.best_estimator_.named_steps['logreg'].coef_\n",
    "\n",
    "# Create data frame out of words and their coefficients\n",
    "coef_df = pd.DataFrame({\n",
    "    'features': words,\n",
    "    'coefs': coefficients[0]\n",
    "})"
   ]
  },
  {
   "cell_type": "code",
   "execution_count": 11,
   "metadata": {},
   "outputs": [
    {
     "data": {
      "text/html": [
       "<div>\n",
       "<style scoped>\n",
       "    .dataframe tbody tr th:only-of-type {\n",
       "        vertical-align: middle;\n",
       "    }\n",
       "\n",
       "    .dataframe tbody tr th {\n",
       "        vertical-align: top;\n",
       "    }\n",
       "\n",
       "    .dataframe thead th {\n",
       "        text-align: right;\n",
       "    }\n",
       "</style>\n",
       "<table border=\"1\" class=\"dataframe\">\n",
       "  <thead>\n",
       "    <tr style=\"text-align: right;\">\n",
       "      <th></th>\n",
       "      <th>features</th>\n",
       "      <th>coefs</th>\n",
       "    </tr>\n",
       "  </thead>\n",
       "  <tbody>\n",
       "    <tr>\n",
       "      <th>15581</th>\n",
       "      <td>catholic</td>\n",
       "      <td>-2.153277</td>\n",
       "    </tr>\n",
       "    <tr>\n",
       "      <th>50915</th>\n",
       "      <td>mass</td>\n",
       "      <td>-2.063608</td>\n",
       "    </tr>\n",
       "    <tr>\n",
       "      <th>16063</th>\n",
       "      <td>catholicism</td>\n",
       "      <td>-1.704409</td>\n",
       "    </tr>\n",
       "    <tr>\n",
       "      <th>70273</th>\n",
       "      <td>rosary</td>\n",
       "      <td>-1.584607</td>\n",
       "    </tr>\n",
       "    <tr>\n",
       "      <th>19855</th>\n",
       "      <td>confession</td>\n",
       "      <td>-1.543783</td>\n",
       "    </tr>\n",
       "    <tr>\n",
       "      <th>80085</th>\n",
       "      <td>the church</td>\n",
       "      <td>-1.440948</td>\n",
       "    </tr>\n",
       "    <tr>\n",
       "      <th>16155</th>\n",
       "      <td>catholics</td>\n",
       "      <td>-1.413196</td>\n",
       "    </tr>\n",
       "    <tr>\n",
       "      <th>76291</th>\n",
       "      <td>st</td>\n",
       "      <td>-1.320548</td>\n",
       "    </tr>\n",
       "    <tr>\n",
       "      <th>64043</th>\n",
       "      <td>pope</td>\n",
       "      <td>-1.243571</td>\n",
       "    </tr>\n",
       "    <tr>\n",
       "      <th>70730</th>\n",
       "      <td>saint</td>\n",
       "      <td>-1.033621</td>\n",
       "    </tr>\n",
       "    <tr>\n",
       "      <th>67292</th>\n",
       "      <td>rcia</td>\n",
       "      <td>-1.033605</td>\n",
       "    </tr>\n",
       "    <tr>\n",
       "      <th>50817</th>\n",
       "      <td>mary</td>\n",
       "      <td>-0.995489</td>\n",
       "    </tr>\n",
       "    <tr>\n",
       "      <th>65401</th>\n",
       "      <td>priests</td>\n",
       "      <td>-0.976871</td>\n",
       "    </tr>\n",
       "    <tr>\n",
       "      <th>32743</th>\n",
       "      <td>free friday</td>\n",
       "      <td>-0.934128</td>\n",
       "    </tr>\n",
       "    <tr>\n",
       "      <th>53458</th>\n",
       "      <td>mortal</td>\n",
       "      <td>-0.926200</td>\n",
       "    </tr>\n",
       "    <tr>\n",
       "      <th>61825</th>\n",
       "      <td>parish</td>\n",
       "      <td>-0.912951</td>\n",
       "    </tr>\n",
       "    <tr>\n",
       "      <th>88316</th>\n",
       "      <td>vatican</td>\n",
       "      <td>-0.902829</td>\n",
       "    </tr>\n",
       "    <tr>\n",
       "      <th>47190</th>\n",
       "      <td>latin</td>\n",
       "      <td>-0.898084</td>\n",
       "    </tr>\n",
       "    <tr>\n",
       "      <th>70822</th>\n",
       "      <td>saints</td>\n",
       "      <td>-0.894992</td>\n",
       "    </tr>\n",
       "    <tr>\n",
       "      <th>18112</th>\n",
       "      <td>christmas</td>\n",
       "      <td>-0.860415</td>\n",
       "    </tr>\n",
       "  </tbody>\n",
       "</table>\n",
       "</div>"
      ],
      "text/plain": [
       "          features     coefs\n",
       "15581     catholic -2.153277\n",
       "50915         mass -2.063608\n",
       "16063  catholicism -1.704409\n",
       "70273       rosary -1.584607\n",
       "19855   confession -1.543783\n",
       "80085   the church -1.440948\n",
       "16155    catholics -1.413196\n",
       "76291           st -1.320548\n",
       "64043         pope -1.243571\n",
       "70730        saint -1.033621\n",
       "67292         rcia -1.033605\n",
       "50817         mary -0.995489\n",
       "65401      priests -0.976871\n",
       "32743  free friday -0.934128\n",
       "53458       mortal -0.926200\n",
       "61825       parish -0.912951\n",
       "88316      vatican -0.902829\n",
       "47190        latin -0.898084\n",
       "70822       saints -0.894992\n",
       "18112    christmas -0.860415"
      ]
     },
     "execution_count": 11,
     "metadata": {},
     "output_type": "execute_result"
    }
   ],
   "source": [
    "# Get words most predictive of /r/Catholicism\n",
    "coef_df.sort_values('coefs').head(20)"
   ]
  },
  {
   "cell_type": "code",
   "execution_count": 12,
   "metadata": {},
   "outputs": [
    {
     "data": {
      "text/html": [
       "<div>\n",
       "<style scoped>\n",
       "    .dataframe tbody tr th:only-of-type {\n",
       "        vertical-align: middle;\n",
       "    }\n",
       "\n",
       "    .dataframe tbody tr th {\n",
       "        vertical-align: top;\n",
       "    }\n",
       "\n",
       "    .dataframe thead th {\n",
       "        text-align: right;\n",
       "    }\n",
       "</style>\n",
       "<table border=\"1\" class=\"dataframe\">\n",
       "  <thead>\n",
       "    <tr style=\"text-align: right;\">\n",
       "      <th></th>\n",
       "      <th>features</th>\n",
       "      <th>coefs</th>\n",
       "    </tr>\n",
       "  </thead>\n",
       "  <tbody>\n",
       "    <tr>\n",
       "      <th>21330</th>\n",
       "      <td>covid</td>\n",
       "      <td>0.519496</td>\n",
       "    </tr>\n",
       "    <tr>\n",
       "      <th>71222</th>\n",
       "      <td>saved</td>\n",
       "      <td>0.522568</td>\n",
       "    </tr>\n",
       "    <tr>\n",
       "      <th>23189</th>\n",
       "      <td>denomination</td>\n",
       "      <td>0.528118</td>\n",
       "    </tr>\n",
       "    <tr>\n",
       "      <th>84465</th>\n",
       "      <td>to church</td>\n",
       "      <td>0.529836</td>\n",
       "    </tr>\n",
       "    <tr>\n",
       "      <th>63633</th>\n",
       "      <td>please</td>\n",
       "      <td>0.539434</td>\n",
       "    </tr>\n",
       "    <tr>\n",
       "      <th>30105</th>\n",
       "      <td>fear</td>\n",
       "      <td>0.553230</td>\n",
       "    </tr>\n",
       "    <tr>\n",
       "      <th>23220</th>\n",
       "      <td>denominations</td>\n",
       "      <td>0.569211</td>\n",
       "    </tr>\n",
       "    <tr>\n",
       "      <th>47957</th>\n",
       "      <td>lgbt</td>\n",
       "      <td>0.570547</td>\n",
       "    </tr>\n",
       "    <tr>\n",
       "      <th>61609</th>\n",
       "      <td>pandemic</td>\n",
       "      <td>0.593808</td>\n",
       "    </tr>\n",
       "    <tr>\n",
       "      <th>17210</th>\n",
       "      <td>christ</td>\n",
       "      <td>0.602729</td>\n",
       "    </tr>\n",
       "    <tr>\n",
       "      <th>9187</th>\n",
       "      <td>atheists</td>\n",
       "      <td>0.638143</td>\n",
       "    </tr>\n",
       "    <tr>\n",
       "      <th>79967</th>\n",
       "      <td>the bible</td>\n",
       "      <td>0.665713</td>\n",
       "    </tr>\n",
       "    <tr>\n",
       "      <th>86607</th>\n",
       "      <td>trump</td>\n",
       "      <td>0.705888</td>\n",
       "    </tr>\n",
       "    <tr>\n",
       "      <th>12502</th>\n",
       "      <td>biblical</td>\n",
       "      <td>0.722721</td>\n",
       "    </tr>\n",
       "    <tr>\n",
       "      <th>20887</th>\n",
       "      <td>coronavirus</td>\n",
       "      <td>0.841754</td>\n",
       "    </tr>\n",
       "    <tr>\n",
       "      <th>34777</th>\n",
       "      <td>god</td>\n",
       "      <td>0.893471</td>\n",
       "    </tr>\n",
       "    <tr>\n",
       "      <th>45220</th>\n",
       "      <td>jesus</td>\n",
       "      <td>0.896341</td>\n",
       "    </tr>\n",
       "    <tr>\n",
       "      <th>17760</th>\n",
       "      <td>christianity</td>\n",
       "      <td>1.690695</td>\n",
       "    </tr>\n",
       "    <tr>\n",
       "      <th>17905</th>\n",
       "      <td>christians</td>\n",
       "      <td>1.723612</td>\n",
       "    </tr>\n",
       "    <tr>\n",
       "      <th>17366</th>\n",
       "      <td>christian</td>\n",
       "      <td>1.818258</td>\n",
       "    </tr>\n",
       "  </tbody>\n",
       "</table>\n",
       "</div>"
      ],
      "text/plain": [
       "            features     coefs\n",
       "21330          covid  0.519496\n",
       "71222          saved  0.522568\n",
       "23189   denomination  0.528118\n",
       "84465      to church  0.529836\n",
       "63633         please  0.539434\n",
       "30105           fear  0.553230\n",
       "23220  denominations  0.569211\n",
       "47957           lgbt  0.570547\n",
       "61609       pandemic  0.593808\n",
       "17210         christ  0.602729\n",
       "9187        atheists  0.638143\n",
       "79967      the bible  0.665713\n",
       "86607          trump  0.705888\n",
       "12502       biblical  0.722721\n",
       "20887    coronavirus  0.841754\n",
       "34777            god  0.893471\n",
       "45220          jesus  0.896341\n",
       "17760   christianity  1.690695\n",
       "17905     christians  1.723612\n",
       "17366      christian  1.818258"
      ]
     },
     "execution_count": 12,
     "metadata": {},
     "output_type": "execute_result"
    }
   ],
   "source": [
    "# Get words most predictive of /r/Christianity\n",
    "coef_df.sort_values('coefs').tail(20)"
   ]
  },
  {
   "cell_type": "markdown",
   "metadata": {},
   "source": [
    "Looking at the word coefficients, we can see that the words most predictive of */r/Catholicism* are much stronger than those most predictive of */r/Christianity*. They are words deeply related to Catholic theology like \"mass\", \"rosary\", and \"confession\"."
   ]
  },
  {
   "cell_type": "markdown",
   "metadata": {},
   "source": [
    "## What was our model most likely to get wrong?"
   ]
  },
  {
   "cell_type": "code",
   "execution_count": 19,
   "metadata": {},
   "outputs": [
    {
     "data": {
      "image/png": "[encoded data removed]",
      "text/plain": [
       "<Figure size 432x288 with 2 Axes>"
      ]
     },
     "metadata": {
      "needs_background": "light"
     },
     "output_type": "display_data"
    }
   ],
   "source": [
    "plot_confusion_matrix(gs.best_estimator_, X_test, y_test, normalize='all', cmap='Blues');"
   ]
  },
  {
   "cell_type": "markdown",
   "metadata": {},
   "source": [
    "There are more posts misclassified as being from */r/Christianity* than */r/Catholicism*. Our model is probably very good at correctly predicting */r/Catholicism* posts when they contain words strongly associated with Catholicism (like \"pope\"), but not so great when they contain only generically Christian words (like \"jesus\")."
   ]
  },
  {
   "cell_type": "markdown",
   "metadata": {},
   "source": [
    "## Which posts did our model get wrong?"
   ]
  },
  {
   "cell_type": "code",
   "execution_count": null,
   "metadata": {},
   "outputs": [],
   "source": [
    "# Make df columns easier to read\n",
    "pd.options.display.max_colwidth = 140"
   ]
  },
  {
   "cell_type": "code",
   "execution_count": null,
   "metadata": {},
   "outputs": [],
   "source": [
    "# Create dataframe of title, actual subreddit, and predicted subreddit\n",
    "test_df = pd.DataFrame({\n",
    "    'title': X_test,\n",
    "    'actual': y_test,\n",
    "    'predicted': gs.best_estimator_.predict(X_test)\n",
    "})"
   ]
  },
  {
   "cell_type": "code",
   "execution_count": null,
   "metadata": {},
   "outputs": [],
   "source": [
    "# Get posts incorrectly predicted as being from /r/Christianity\n",
    "predicted_christianity = test_df['predicted'] == 'Christianity'\n",
    "actual_catholicism = test_df['actual'] == 'Catholicism'\n",
    "test_df[predicted_christianity & actual_catholicism].head(10)"
   ]
  },
  {
   "cell_type": "code",
   "execution_count": null,
   "metadata": {},
   "outputs": [],
   "source": [
    "# Get posts incorrectly predicted as being from /r/Catholicism\n",
    "predicted_catholicism = test_df['predicted'] == 'Catholicism'\n",
    "actual_christianity = test_df['actual'] == 'Christianity'\n",
    "test_df[predicted_catholicism & actual_christianity].head(10)"
   ]
  },
  {
   "cell_type": "markdown",
   "metadata": {},
   "source": [
    "Looking at some of the posts misclassified by our model, I'm not sure a human interpreter could have done any better. Posts entitle \"I'm afraid\" and \"What is the difference\" are simply too vague to make any sense of. There are some intersting misses, however, like \"His Holiness received a new Popemobile this week\". The reference to the Pope seems to be a dead giveaway that the post comes from */r/Catholicism*, but the model is unable to pick up on the reference because the actual phrase used is \"Popemobile\"."
   ]
  }
 ],
 "metadata": {
  "kernelspec": {
   "display_name": "Python 3",
   "language": "python",
   "name": "python3"
  },
  "language_info": {
   "codemirror_mode": {
    "name": "ipython",
    "version": 3
   },
   "file_extension": ".py",
   "mimetype": "text/x-python",
   "name": "python",
   "nbconvert_exporter": "python",
   "pygments_lexer": "ipython3",
   "version": "3.7.6"
  }
 },
 "nbformat": 4,
 "nbformat_minor": 4
}
