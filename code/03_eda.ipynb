{
 "cells": [
  {
   "cell_type": "markdown",
   "metadata": {},
   "source": [
    "# Exploratory Data Analysis"
   ]
  },
  {
   "cell_type": "markdown",
   "metadata": {},
   "source": [
    "In this notebook, I'm performing some data analysis. Without resorting to more advanced methods, there is a lot to be learned from the dataframe we already have. Eventually, we'll bring in `CountVectorizer` to view word choice trends in the titles of posts from each subreddit."
   ]
  },
  {
   "cell_type": "markdown",
   "metadata": {},
   "source": [
    "**Jump to:**\n",
    "- [Basic EDA](#basic)\n",
    "- [EDA using CountVectorizer](#countvect)"
   ]
  },
  {
   "cell_type": "markdown",
   "metadata": {},
   "source": [
    "## Importing libraries"
   ]
  },
  {
   "cell_type": "code",
   "execution_count": 1,
   "metadata": {},
   "outputs": [],
   "source": [
    "import matplotlib.pyplot as plt\n",
    "import pandas as pd\n",
    "\n",
    "from sklearn.feature_extraction.text import CountVectorizer"
   ]
  },
  {
   "cell_type": "markdown",
   "metadata": {},
   "source": [
    "## Loading the data"
   ]
  },
  {
   "cell_type": "code",
   "execution_count": 2,
   "metadata": {},
   "outputs": [],
   "source": [
    "filepath = '../data/clean_1587672956.csv'\n",
    "df = pd.read_csv(filepath)"
   ]
  },
  {
   "cell_type": "code",
   "execution_count": 3,
   "metadata": {},
   "outputs": [
    {
     "data": {
      "text/html": [
       "<div>\n",
       "<style scoped>\n",
       "    .dataframe tbody tr th:only-of-type {\n",
       "        vertical-align: middle;\n",
       "    }\n",
       "\n",
       "    .dataframe tbody tr th {\n",
       "        vertical-align: top;\n",
       "    }\n",
       "\n",
       "    .dataframe thead th {\n",
       "        text-align: right;\n",
       "    }\n",
       "</style>\n",
       "<table border=\"1\" class=\"dataframe\">\n",
       "  <thead>\n",
       "    <tr style=\"text-align: right;\">\n",
       "      <th></th>\n",
       "      <th>subreddit</th>\n",
       "      <th>subreddit_subscribers</th>\n",
       "      <th>title</th>\n",
       "      <th>selftext</th>\n",
       "      <th>score</th>\n",
       "      <th>num_comments</th>\n",
       "      <th>author</th>\n",
       "      <th>created_utc</th>\n",
       "    </tr>\n",
       "  </thead>\n",
       "  <tbody>\n",
       "    <tr>\n",
       "      <th>0</th>\n",
       "      <td>Christianity</td>\n",
       "      <td>233423</td>\n",
       "      <td>Christian and wondering if God provides what w...</td>\n",
       "      <td>Please forgive me for sounding so flippant, bu...</td>\n",
       "      <td>1</td>\n",
       "      <td>0</td>\n",
       "      <td>friendlyhello123</td>\n",
       "      <td>1587672956</td>\n",
       "    </tr>\n",
       "    <tr>\n",
       "      <th>1</th>\n",
       "      <td>Christianity</td>\n",
       "      <td>233423</td>\n",
       "      <td>What do you think is often ignored in the bibl...</td>\n",
       "      <td>Like genealogies for example... both Rahab and...</td>\n",
       "      <td>1</td>\n",
       "      <td>0</td>\n",
       "      <td>Clear-Plastic</td>\n",
       "      <td>1587671298</td>\n",
       "    </tr>\n",
       "    <tr>\n",
       "      <th>2</th>\n",
       "      <td>Christianity</td>\n",
       "      <td>233422</td>\n",
       "      <td>How do you deal with some new member suddenly ...</td>\n",
       "      <td>Have this issue now. This member somehow becam...</td>\n",
       "      <td>1</td>\n",
       "      <td>0</td>\n",
       "      <td>akhil_gs</td>\n",
       "      <td>1587671035</td>\n",
       "    </tr>\n",
       "    <tr>\n",
       "      <th>3</th>\n",
       "      <td>Christianity</td>\n",
       "      <td>233423</td>\n",
       "      <td>Ran Across a Great Podcast about Christianity,...</td>\n",
       "      <td>Hi all, \\n\\nI ran across this podcast where a ...</td>\n",
       "      <td>1</td>\n",
       "      <td>0</td>\n",
       "      <td>MrNewDenver</td>\n",
       "      <td>1587670810</td>\n",
       "    </tr>\n",
       "    <tr>\n",
       "      <th>4</th>\n",
       "      <td>Christianity</td>\n",
       "      <td>233423</td>\n",
       "      <td>Desire for wealth</td>\n",
       "      <td>Hi-\\nI have been thinking about it a bit latel...</td>\n",
       "      <td>1</td>\n",
       "      <td>0</td>\n",
       "      <td>FloppingGazelle</td>\n",
       "      <td>1587670685</td>\n",
       "    </tr>\n",
       "  </tbody>\n",
       "</table>\n",
       "</div>"
      ],
      "text/plain": [
       "      subreddit  subreddit_subscribers  \\\n",
       "0  Christianity                 233423   \n",
       "1  Christianity                 233423   \n",
       "2  Christianity                 233422   \n",
       "3  Christianity                 233423   \n",
       "4  Christianity                 233423   \n",
       "\n",
       "                                               title  \\\n",
       "0  Christian and wondering if God provides what w...   \n",
       "1  What do you think is often ignored in the bibl...   \n",
       "2  How do you deal with some new member suddenly ...   \n",
       "3  Ran Across a Great Podcast about Christianity,...   \n",
       "4                                  Desire for wealth   \n",
       "\n",
       "                                            selftext  score  num_comments  \\\n",
       "0  Please forgive me for sounding so flippant, bu...      1             0   \n",
       "1  Like genealogies for example... both Rahab and...      1             0   \n",
       "2  Have this issue now. This member somehow becam...      1             0   \n",
       "3  Hi all, \\n\\nI ran across this podcast where a ...      1             0   \n",
       "4  Hi-\\nI have been thinking about it a bit latel...      1             0   \n",
       "\n",
       "             author  created_utc  \n",
       "0  friendlyhello123   1587672956  \n",
       "1     Clear-Plastic   1587671298  \n",
       "2          akhil_gs   1587671035  \n",
       "3       MrNewDenver   1587670810  \n",
       "4   FloppingGazelle   1587670685  "
      ]
     },
     "execution_count": 3,
     "metadata": {},
     "output_type": "execute_result"
    }
   ],
   "source": [
    "df.head()"
   ]
  },
  {
   "cell_type": "code",
   "execution_count": 4,
   "metadata": {},
   "outputs": [
    {
     "data": {
      "text/plain": [
       "(28735, 8)"
      ]
     },
     "execution_count": 4,
     "metadata": {},
     "output_type": "execute_result"
    }
   ],
   "source": [
    "df.shape"
   ]
  },
  {
   "cell_type": "markdown",
   "metadata": {},
   "source": [
    "# Basic EDA <a id=\"basic\"></a>"
   ]
  },
  {
   "cell_type": "markdown",
   "metadata": {},
   "source": [
    "### What percentage of posts in each community are made by someone new?"
   ]
  },
  {
   "cell_type": "code",
   "execution_count": 5,
   "metadata": {},
   "outputs": [],
   "source": [
    "# Create masks to identify each subreddit\n",
    "is_christianity_sub = df['subreddit'] == 'Christianity'\n",
    "is_catholicism_sub = df['subreddit'] == 'Catholicism'"
   ]
  },
  {
   "cell_type": "code",
   "execution_count": 6,
   "metadata": {},
   "outputs": [],
   "source": [
    "# Get number of posters on christianity sub\n",
    "n_posters_christianity = len(df.loc[is_christianity_sub, 'author'].unique())\n",
    "\n",
    "# Get number of posts on christianity sub\n",
    "n_posts_christianity = df.loc[is_christianity_sub, :].shape[0]"
   ]
  },
  {
   "cell_type": "code",
   "execution_count": 7,
   "metadata": {},
   "outputs": [],
   "source": [
    "# Get number of posters on catholicism sub\n",
    "n_posters_catholicism = len(df.loc[is_catholicism_sub, 'author'].unique())\n",
    "\n",
    "# Get number of posts on catholicism sub\n",
    "n_posts_catholicism = df.loc[is_catholicism_sub, :].shape[0]"
   ]
  },
  {
   "cell_type": "code",
   "execution_count": 8,
   "metadata": {},
   "outputs": [
    {
     "data": {
      "image/png": "[encoded data removed]",
      "text/plain": [
       "<Figure size 576x288 with 1 Axes>"
      ]
     },
     "metadata": {
      "needs_background": "light"
     },
     "output_type": "display_data"
    }
   ],
   "source": [
    "plt.figure(figsize=(8, 4))\n",
    "plt.barh(y=['/r/Catholicism', '/r/Christianity'],\n",
    "         width=[n_posters_catholicism / n_posts_catholicism * 100,\n",
    "                n_posters_christianity / n_posts_christianity * 100])\n",
    "plt.title('Percentage of posts made by a new poster');"
   ]
  },
  {
   "cell_type": "markdown",
   "metadata": {},
   "source": [
    "We can see that for the Catholicism subreddit, about 45% of posts are made by someone who has not previously made a post in the community. For the Christianity subreddit, it's about 55%. So the Christianity subreddit is slightly more active with new voices. Regardless, about half of all discussion in either community is generated by regular posters."
   ]
  },
  {
   "cell_type": "markdown",
   "metadata": {},
   "source": [
    "### What is the average score and number of comments for a post in each community?"
   ]
  },
  {
   "cell_type": "code",
   "execution_count": 9,
   "metadata": {},
   "outputs": [],
   "source": [
    "# Get average score of a post in christianity sub\n",
    "avg_score_christianity = df.loc[is_christianity_sub, 'score'].mean()\n",
    "\n",
    "# Get average score of a post in catholicism sub\n",
    "avg_score_catholicism = df.loc[is_catholicism_sub, 'score'].mean()"
   ]
  },
  {
   "cell_type": "code",
   "execution_count": 10,
   "metadata": {},
   "outputs": [
    {
     "data": {
      "image/png": "[encoded data removed]",
      "text/plain": [
       "<Figure size 576x288 with 1 Axes>"
      ]
     },
     "metadata": {
      "needs_background": "light"
     },
     "output_type": "display_data"
    }
   ],
   "source": [
    "plt.figure(figsize=(8, 4))\n",
    "plt.barh(y=['/r/Christianity', '/r/Catholicism'],\n",
    "          width=[avg_score_christianity, avg_score_catholicism])\n",
    "plt.title('Average score of a post in each community');"
   ]
  },
  {
   "cell_type": "code",
   "execution_count": 11,
   "metadata": {},
   "outputs": [],
   "source": [
    "# Get average number of comments for a post in christianity sub\n",
    "avg_n_comments_christianity = df.loc[is_christianity_sub, 'num_comments'].mean()\n",
    "\n",
    "# Get average number of comments for a post in catholicism sub\n",
    "avg_n_comments_catholicism = df.loc[is_catholicism_sub, 'num_comments'].mean()"
   ]
  },
  {
   "cell_type": "code",
   "execution_count": 12,
   "metadata": {},
   "outputs": [
    {
     "data": {
      "image/png": "[encoded data removed]",
      "text/plain": [
       "<Figure size 576x288 with 1 Axes>"
      ]
     },
     "metadata": {
      "needs_background": "light"
     },
     "output_type": "display_data"
    }
   ],
   "source": [
    "plt.figure(figsize=(8, 4))\n",
    "plt.barh(y=['/r/Christianity', '/r/Catholicism'],\n",
    "         width=[avg_n_comments_christianity, avg_n_comments_catholicism])\n",
    "plt.title('Average number of comments for a post in each community');"
   ]
  },
  {
   "cell_type": "markdown",
   "metadata": {},
   "source": [
    "We see that while posts in */r/Catholicism* on average receive a higher score, they do not on average get as many comments. This suggests the preferred method of interaction is commenting for */r/Christianity* and upvoting/downvoting for */r/Catholicism*."
   ]
  },
  {
   "cell_type": "markdown",
   "metadata": {},
   "source": [
    "### Does anyone post in both subreddits?"
   ]
  },
  {
   "cell_type": "markdown",
   "metadata": {},
   "source": [
    "I began this project by making the assumption that Protestants and Catholics mostly self-segregate into */r/Christianity* and */r/Catholicism*, respectively. We can use the `author` tag from our posts to check if this assumption is valid."
   ]
  },
  {
   "cell_type": "code",
   "execution_count": 13,
   "metadata": {},
   "outputs": [],
   "source": [
    "# Get posters in christianity subreddit\n",
    "christianity_posters = [author for author in df.loc[is_christianity_sub, 'author'].unique()]\n",
    "\n",
    "# Get posters in catholicism subreddit\n",
    "catholicism_posters = [author for author in df.loc[is_catholicism_sub, 'author'].unique()]\n",
    "\n",
    "# Get posters in both subreddits\n",
    "both = [author for author in christianity_posters if author in catholicism_posters]"
   ]
  },
  {
   "cell_type": "code",
   "execution_count": 14,
   "metadata": {},
   "outputs": [
    {
     "data": {
      "image/png": "[encoded data removed]",
      "text/plain": [
       "<Figure size 576x288 with 1 Axes>"
      ]
     },
     "metadata": {
      "needs_background": "light"
     },
     "output_type": "display_data"
    }
   ],
   "source": [
    "plt.figure(figsize=(8, 4))\n",
    "plt.barh(y=['/r/Christianity', '/r/Catholicism', 'Both'],\n",
    "         width=[len(christianity_posters), len(catholicism_posters), len(both)])\n",
    "plt.title('Number of posters by community');"
   ]
  },
  {
   "cell_type": "markdown",
   "metadata": {},
   "source": [
    "So, we see that less than 500 of the almost 14,000 posters (~ 3%) have made submissions in both communities. This seems to confirm my intuition that the two subreddits are divided along ideological lines."
   ]
  },
  {
   "cell_type": "markdown",
   "metadata": {},
   "source": [
    "# EDA Using `CountVectorizer` <a id=\"countvect\"></a>"
   ]
  },
  {
   "cell_type": "markdown",
   "metadata": {},
   "source": [
    "Now that we've done some basic EDA, we'll create a dataframe of title word counts to dig a little deeper."
   ]
  },
  {
   "cell_type": "code",
   "execution_count": 15,
   "metadata": {},
   "outputs": [],
   "source": [
    "# Instantiate a CountVectorizer\n",
    "cvec = CountVectorizer(stop_words='english')"
   ]
  },
  {
   "cell_type": "code",
   "execution_count": 16,
   "metadata": {},
   "outputs": [],
   "source": [
    "# Fit the vectorizer on our title data and get word counts\n",
    "title_words = cvec.fit_transform(df['title'])"
   ]
  },
  {
   "cell_type": "code",
   "execution_count": 17,
   "metadata": {},
   "outputs": [],
   "source": [
    "# Create a dataframe out of the title words\n",
    "title_words_df = pd.DataFrame(title_words.toarray(), columns=cvec.get_feature_names())"
   ]
  },
  {
   "cell_type": "code",
   "execution_count": 18,
   "metadata": {},
   "outputs": [],
   "source": [
    "# Add back in the subreddit the post came from\n",
    "title_words_df['subreddit'] = df['subreddit']"
   ]
  },
  {
   "cell_type": "markdown",
   "metadata": {},
   "source": [
    "### Which words are most common overall?"
   ]
  },
  {
   "cell_type": "code",
   "execution_count": 19,
   "metadata": {},
   "outputs": [
    {
     "data": {
      "image/png": "[encoded data removed]",
      "text/plain": [
       "<Figure size 576x576 with 1 Axes>"
      ]
     },
     "metadata": {
      "needs_background": "light"
     },
     "output_type": "display_data"
    }
   ],
   "source": [
    "plt.figure(figsize=(8, 8))\n",
    "title_words_df.drop(columns=['subreddit']).sum().sort_values(ascending=False)[:10].plot(kind='barh')\n",
    "plt.xlabel('Number of occurences')\n",
    "plt.title('Most common title words in either subreddit');"
   ]
  },
  {
   "cell_type": "markdown",
   "metadata": {},
   "source": [
    "### Which words are most common in the Christianity subreddit?"
   ]
  },
  {
   "cell_type": "code",
   "execution_count": 20,
   "metadata": {},
   "outputs": [],
   "source": [
    "# Create dataframe of all title words in Christianity subreddit\n",
    "christianity_title_words_df = title_words_df.loc[is_christianity_sub, title_words_df.columns != 'subreddit']"
   ]
  },
  {
   "cell_type": "code",
   "execution_count": 21,
   "metadata": {},
   "outputs": [
    {
     "data": {
      "image/png": "[encoded data removed]",
      "text/plain": [
       "<Figure size 576x576 with 1 Axes>"
      ]
     },
     "metadata": {
      "needs_background": "light"
     },
     "output_type": "display_data"
    }
   ],
   "source": [
    "plt.figure(figsize=(8, 8))\n",
    "christianity_title_words_df.sum().sort_values(ascending=False)[:10].plot(kind='barh')\n",
    "plt.xlabel('Number of occurences')\n",
    "plt.title('Most common title words in /r/Christianity');"
   ]
  },
  {
   "cell_type": "markdown",
   "metadata": {},
   "source": [
    "### Which words are most common in the Catholicism subreddit?"
   ]
  },
  {
   "cell_type": "code",
   "execution_count": 22,
   "metadata": {},
   "outputs": [],
   "source": [
    "# Create dataframe of all title words in Christianity subreddit\n",
    "catholicism_title_words_df = title_words_df.loc[is_catholicism_sub, title_words_df.columns != 'subreddit']"
   ]
  },
  {
   "cell_type": "code",
   "execution_count": 23,
   "metadata": {},
   "outputs": [
    {
     "data": {
      "image/png": "[encoded data removed]",
      "text/plain": [
       "<Figure size 576x576 with 1 Axes>"
      ]
     },
     "metadata": {
      "needs_background": "light"
     },
     "output_type": "display_data"
    }
   ],
   "source": [
    "plt.figure(figsize=(8, 8))\n",
    "catholicism_title_words_df.sum().sort_values(ascending=False)[:10].plot(kind='barh')\n",
    "plt.xlabel('Number of occurences')\n",
    "plt.title('Most common title words in /r/Catholicism');"
   ]
  },
  {
   "cell_type": "markdown",
   "metadata": {},
   "source": [
    "### Which words are common in one subreddit but not the other?"
   ]
  },
  {
   "cell_type": "code",
   "execution_count": 24,
   "metadata": {},
   "outputs": [],
   "source": [
    "# Get 50 most common words in Christianity sub\n",
    "sorted_christianity_word_counts = christianity_title_words_df.sum().sort_values(ascending=False)\n",
    "most_common_christianity_words = [word for word in christianity_title_words_df.columns if word in sorted_christianity_word_counts[:50]]\n",
    "\n",
    "# Get 50 most common words in Catholicism sub\n",
    "sorted_catholicism_word_counts = catholicism_title_words_df.sum().sort_values(ascending=False)\n",
    "most_common_catholicism_words = [word for word in catholicism_title_words_df.columns if word in sorted_catholicism_word_counts[:50]]"
   ]
  },
  {
   "cell_type": "markdown",
   "metadata": {},
   "source": [
    "|   | Common in /r/Christianity but not /r/Catholicism | Common in /r/Catholicism but not /r/Christianity |\n",
    "|---|--------------------------------------------------|--------------------------------------------------|\n",
    "|   | atheist                                          | book                                             |\n",
    "|   | believe                                          | catholic                                         |\n",
    "|   |  christ                                          | catholicism                                      |\n",
    "|   | christian                                        | catholics                                        |\n",
    "|   | christianity                                     | communion                                        |\n",
    "|   | coronavirus                                      | confession                                       |\n",
    "|   | feel                                             | day                                              |\n",
    "|   | going                                            | free                                             |\n",
    "|   | heaven                                           | friday                                           |\n",
    "|   | hell                                             | holy                                             |\n",
    "|   | lord                                             | looking                                          |\n",
    "|   | love                                             | mary                                             |\n",
    "|   | make                                             | mass                                             |\n",
    "|   | read                                             | mortal                                           |"
   ]
  }
 ],
 "metadata": {
  "kernelspec": {
   "display_name": "Python 3",
   "language": "python",
   "name": "python3"
  },
  "language_info": {
   "codemirror_mode": {
    "name": "ipython",
    "version": 3
   },
   "file_extension": ".py",
   "mimetype": "text/x-python",
   "name": "python",
   "nbconvert_exporter": "python",
   "pygments_lexer": "ipython3",
   "version": "3.7.6"
  }
 },
 "nbformat": 4,
 "nbformat_minor": 4
}
